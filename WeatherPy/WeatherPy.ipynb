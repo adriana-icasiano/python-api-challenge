{
 "cells": [
  {
   "cell_type": "markdown",
   "metadata": {},
   "source": [
    "# WeatherPy\n",
    "----\n",
    "\n",
    "#### Note\n",
    "* Instructions have been included for each segment. You do not have to follow them exactly, but they are included to help you think through the steps."
   ]
  },
  {
   "cell_type": "code",
   "execution_count": 1,
   "metadata": {
    "scrolled": true
   },
   "outputs": [],
   "source": [
    "# Dependencies and Setup\n",
    "import matplotlib.pyplot as plt\n",
    "import pandas as pd\n",
    "import numpy as np\n",
    "import requests\n",
    "import time\n",
    "import json\n",
    "from scipy.stats import linregress\n",
    "from pprint import pprint\n",
    "\n",
    "# Import API key\n",
    "from api_keys import weather_api_key\n",
    "\n",
    "# Incorporated citipy to determine city based on latitude and longitude\n",
    "from citipy import citipy\n",
    "\n",
    "# Output File (CSV)\n",
    "output_data_file = \"output_data/cities.csv\"\n",
    "\n",
    "# Range of latitudes and longitudes\n",
    "lat_range = (-90, 90)\n",
    "lng_range = (-180, 180)"
   ]
  },
  {
   "cell_type": "markdown",
   "metadata": {},
   "source": [
    "## Generate Cities List"
   ]
  },
  {
   "cell_type": "code",
   "execution_count": 2,
   "metadata": {},
   "outputs": [
    {
     "data": {
      "text/plain": [
       "598"
      ]
     },
     "execution_count": 2,
     "metadata": {},
     "output_type": "execute_result"
    }
   ],
   "source": [
    "# List for holding lat_lngs and cities\n",
    "lat_lngs = []\n",
    "cities = []\n",
    "\n",
    "# Create a set of random lat and lng combinations\n",
    "lats = np.random.uniform(lat_range[0], lat_range[1], size=1500)\n",
    "lngs = np.random.uniform(lng_range[0], lng_range[1], size=1500)\n",
    "lat_lngs = zip(lats, lngs)\n",
    "\n",
    "# Identify nearest city for each lat, lng combination\n",
    "for lat_lng in lat_lngs:\n",
    "    city = citipy.nearest_city(lat_lng[0], lat_lng[1]).city_name\n",
    "    \n",
    "    # If the city is unique, then add it to a our cities list\n",
    "    if city not in cities:\n",
    "        cities.append(city)\n",
    "\n",
    "# Print the city count to confirm sufficient count\n",
    "len(cities)"
   ]
  },
  {
   "cell_type": "code",
   "execution_count": 85,
   "metadata": {},
   "outputs": [
    {
     "data": {
      "text/plain": [
       "{'coord': {'lon': 166.4572, 'lat': -22.2763},\n",
       " 'weather': [{'id': 804,\n",
       "   'main': 'Clouds',\n",
       "   'description': 'overcast clouds',\n",
       "   'icon': '04d'}],\n",
       " 'base': 'stations',\n",
       " 'main': {'temp': 83.44,\n",
       "  'feels_like': 86.14,\n",
       "  'temp_min': 82.99,\n",
       "  'temp_max': 84.2,\n",
       "  'pressure': 1013,\n",
       "  'humidity': 58},\n",
       " 'visibility': 10000,\n",
       " 'wind': {'speed': 9.22, 'deg': 20},\n",
       " 'clouds': {'all': 90},\n",
       " 'dt': 1620789734,\n",
       " 'sys': {'type': 1,\n",
       "  'id': 7344,\n",
       "  'country': 'NC',\n",
       "  'sunrise': 1620760650,\n",
       "  'sunset': 1620800620},\n",
       " 'timezone': 39600,\n",
       " 'id': 2139521,\n",
       " 'name': 'Noumea',\n",
       " 'cod': 200}"
      ]
     },
     "execution_count": 85,
     "metadata": {},
     "output_type": "execute_result"
    }
   ],
   "source": [
    "# #TEST of one city \n",
    "# weather = []\n",
    "# city = \"noumea\"\n",
    "# url = \"http://api.openweathermap.org/data/2.5/weather?\"\n",
    "# unit = \"imperial\"\n",
    "# query_url = url + \"appid=\" + weather_api_key + \"&q=\" + city + \"&units=\" + unit\n",
    "# response = requests.get(query_url).json()\n",
    "# response\n",
    "# #         lat = response['coord']['lat']\n",
    "# #         lng = response['coord']['lon']\n",
    "# #         temp_max = response['main']['temp_max']\n",
    "# #         humid = response['main']['humidity']\n",
    "# #         cloud = response ['clouds']['all']\n",
    "# #         date = response['dt']\n",
    "# #         wind = response['wind']['speed']\n",
    "# #         country = response['sys']['country']\n",
    "# #         dict = {'City': city,'Lat': lat, 'Lng': lng, 'Max Temp': temp_max, 'Humidity' : humid, 'Cloudiness' : cloud, 'Date':date, \\\n",
    "# #                 'Wind Speed' : wind, 'Country':country}\n",
    "# #         weather.append(dict)"
   ]
  },
  {
   "cell_type": "markdown",
   "metadata": {},
   "source": [
    "### Perform API Calls\n",
    "* Perform a weather check on each city using a series of successive API calls.\n",
    "* Include a print log of each city as it'sbeing processed (with the city number and city name).\n"
   ]
  },
  {
   "cell_type": "code",
   "execution_count": 3,
   "metadata": {},
   "outputs": [
    {
     "name": "stdout",
     "output_type": "stream",
     "text": [
      "Beginning Data Retrieval\n",
      "Processing Record 1 of Set 1 | deming\n",
      "Processing Record 2 of Set 1 | ushuaia\n",
      "Processing Record 3 of Set 1 | port hardy\n",
      "Processing Record 4 of Set 1 | torbay\n",
      "Processing Record 5 of Set 1 | paytug\n",
      "There was a Key Error\n",
      "Processing Record 6 of Set 1 | bluff\n",
      "Processing Record 7 of Set 1 | iquique\n",
      "Processing Record 8 of Set 1 | yellowknife\n",
      "Processing Record 9 of Set 1 | kodiak\n",
      "Processing Record 10 of Set 1 | mehamn\n",
      "Processing Record 11 of Set 1 | provideniya\n",
      "Processing Record 12 of Set 1 | bakchar\n",
      "Processing Record 13 of Set 1 | cagayan de tawi-tawi\n",
      "There was a Key Error\n",
      "Processing Record 14 of Set 1 | daru\n",
      "Processing Record 15 of Set 1 | ronda\n",
      "Processing Record 16 of Set 1 | cacu\n",
      "Processing Record 17 of Set 1 | punta arenas\n",
      "Processing Record 18 of Set 1 | namatanai\n",
      "Processing Record 19 of Set 1 | rudbar\n",
      "Processing Record 20 of Set 1 | cidreira\n",
      "Processing Record 21 of Set 1 | bethel\n",
      "Processing Record 22 of Set 1 | russkaya polyana\n",
      "Processing Record 23 of Set 1 | cabo san lucas\n",
      "Processing Record 24 of Set 1 | paradwip\n",
      "There was a Key Error\n",
      "Processing Record 25 of Set 1 | kapaa\n",
      "Processing Record 26 of Set 1 | shitanjing\n",
      "Processing Record 27 of Set 1 | tuktoyaktuk\n",
      "Processing Record 28 of Set 1 | ilulissat\n",
      "Processing Record 29 of Set 1 | avarua\n",
      "Processing Record 30 of Set 1 | rikitea\n",
      "Processing Record 31 of Set 1 | poum\n",
      "Processing Record 32 of Set 1 | barrow\n",
      "Processing Record 33 of Set 1 | hermanus\n",
      "Processing Record 34 of Set 1 | saint george\n",
      "Processing Record 35 of Set 1 | kupino\n",
      "Processing Record 36 of Set 1 | hithadhoo\n",
      "Processing Record 37 of Set 1 | chapais\n",
      "Processing Record 38 of Set 1 | sao filipe\n",
      "Processing Record 39 of Set 1 | lebu\n",
      "Processing Record 40 of Set 1 | campo maior\n",
      "Processing Record 41 of Set 1 | hilo\n",
      "Processing Record 42 of Set 1 | mataura\n",
      "Processing Record 43 of Set 1 | belushya guba\n",
      "There was a Key Error\n",
      "Processing Record 44 of Set 1 | sawtell\n",
      "Processing Record 45 of Set 1 | dikson\n",
      "Processing Record 46 of Set 1 | jamestown\n",
      "Processing Record 47 of Set 1 | vao\n",
      "Processing Record 48 of Set 1 | alice springs\n",
      "Processing Record 49 of Set 1 | turayf\n",
      "Processing Record 50 of Set 1 | kuli\n",
      "Processing Record 51 of Set 1 | upernavik\n",
      "Processing Record 52 of Set 1 | port alfred\n",
      "Processing Record 53 of Set 1 | albany\n",
      "Processing Record 54 of Set 1 | busselton\n",
      "Processing Record 55 of Set 1 | kloulklubed\n",
      "Processing Record 56 of Set 1 | vaini\n",
      "Processing Record 57 of Set 1 | ancud\n",
      "Processing Record 58 of Set 1 | cape town\n",
      "Processing Record 59 of Set 1 | san quintin\n",
      "Processing Record 60 of Set 2 | byron bay\n",
      "Processing Record 61 of Set 2 | tahta\n",
      "Processing Record 62 of Set 2 | hobart\n",
      "Processing Record 63 of Set 2 | saleaula\n",
      "There was a Key Error\n",
      "Processing Record 64 of Set 2 | puerto penasco\n",
      "Processing Record 65 of Set 2 | barentsburg\n",
      "There was a Key Error\n",
      "Processing Record 66 of Set 2 | alofi\n",
      "Processing Record 67 of Set 2 | lavrentiya\n",
      "Processing Record 68 of Set 2 | castro\n",
      "Processing Record 69 of Set 2 | goderich\n",
      "Processing Record 70 of Set 2 | new norfolk\n",
      "Processing Record 71 of Set 2 | nishihara\n",
      "Processing Record 72 of Set 2 | mahebourg\n",
      "Processing Record 73 of Set 2 | nanortalik\n",
      "Processing Record 74 of Set 2 | pontes e lacerda\n",
      "Processing Record 75 of Set 2 | mys shmidta\n",
      "There was a Key Error\n",
      "Processing Record 76 of Set 2 | guerrero negro\n",
      "Processing Record 77 of Set 2 | carnarvon\n",
      "Processing Record 78 of Set 2 | kununurra\n",
      "Processing Record 79 of Set 2 | mar del plata\n",
      "Processing Record 80 of Set 2 | nizhneyansk\n",
      "There was a Key Error\n",
      "Processing Record 81 of Set 2 | akyab\n",
      "Processing Record 82 of Set 2 | flinders\n",
      "Processing Record 83 of Set 2 | qaanaaq\n",
      "Processing Record 84 of Set 2 | nerchinskiy zavod\n",
      "Processing Record 85 of Set 2 | lagos\n",
      "Processing Record 86 of Set 2 | meulaboh\n",
      "Processing Record 87 of Set 2 | hambantota\n",
      "Processing Record 88 of Set 2 | berbera\n",
      "Processing Record 89 of Set 2 | pallasovka\n",
      "Processing Record 90 of Set 2 | te anau\n",
      "Processing Record 91 of Set 2 | kendari\n",
      "Processing Record 92 of Set 2 | butaritari\n",
      "Processing Record 93 of Set 2 | airai\n",
      "Processing Record 94 of Set 2 | ruatoria\n",
      "There was a Key Error\n",
      "Processing Record 95 of Set 2 | codrington\n",
      "Processing Record 96 of Set 2 | attawapiskat\n",
      "There was a Key Error\n",
      "Processing Record 97 of Set 2 | hami\n",
      "Processing Record 98 of Set 2 | bambous virieux\n",
      "Processing Record 99 of Set 2 | broken hill\n",
      "Processing Record 100 of Set 2 | laguna\n",
      "Processing Record 101 of Set 2 | thompson\n",
      "Processing Record 102 of Set 2 | hillsborough\n",
      "Processing Record 103 of Set 2 | vuktyl\n",
      "Processing Record 104 of Set 2 | plainview\n",
      "Processing Record 105 of Set 2 | labuhan\n",
      "Processing Record 106 of Set 2 | kavieng\n",
      "Processing Record 107 of Set 2 | tiksi\n",
      "Processing Record 108 of Set 2 | pittsfield\n",
      "Processing Record 109 of Set 2 | iskateley\n",
      "Processing Record 110 of Set 2 | illoqqortoormiut\n",
      "There was a Key Error\n",
      "Processing Record 111 of Set 2 | minab\n",
      "Processing Record 112 of Set 2 | cherskiy\n",
      "Processing Record 113 of Set 2 | norman wells\n",
      "Processing Record 114 of Set 2 | bredasdorp\n",
      "Processing Record 115 of Set 2 | faanui\n",
      "Processing Record 116 of Set 2 | esmeraldas\n",
      "Processing Record 117 of Set 2 | ribeira grande\n",
      "Processing Record 118 of Set 2 | payo\n",
      "Processing Record 119 of Set 2 | lagoa\n",
      "Processing Record 120 of Set 3 | saint-philippe\n",
      "Processing Record 121 of Set 3 | mbour\n",
      "Processing Record 122 of Set 3 | matamoros\n",
      "Processing Record 123 of Set 3 | klaksvik\n",
      "Processing Record 124 of Set 3 | kandrian\n",
      "Processing Record 125 of Set 3 | tsihombe\n",
      "There was a Key Error\n",
      "Processing Record 126 of Set 3 | aklavik\n",
      "Processing Record 127 of Set 3 | miura\n",
      "Processing Record 128 of Set 3 | halalo\n",
      "There was a Key Error\n",
      "Processing Record 129 of Set 3 | kruisfontein\n",
      "Processing Record 130 of Set 3 | gat\n",
      "Processing Record 131 of Set 3 | kaitangata\n",
      "Processing Record 132 of Set 3 | lindsay\n",
      "Processing Record 133 of Set 3 | shiloh\n",
      "Processing Record 134 of Set 3 | fortuna\n",
      "Processing Record 135 of Set 3 | goya\n",
      "Processing Record 136 of Set 3 | vadlapudi\n",
      "Processing Record 137 of Set 3 | kirkwall\n",
      "Processing Record 138 of Set 3 | aksarka\n",
      "Processing Record 139 of Set 3 | east london\n",
      "Processing Record 140 of Set 3 | lata\n",
      "Processing Record 141 of Set 3 | lompoc\n",
      "Processing Record 142 of Set 3 | saint-pierre\n",
      "Processing Record 143 of Set 3 | gorom-gorom\n",
      "Processing Record 144 of Set 3 | quatre cocos\n",
      "Processing Record 145 of Set 3 | san patricio\n",
      "Processing Record 146 of Set 3 | longyearbyen\n",
      "Processing Record 147 of Set 3 | kuvandyk\n",
      "Processing Record 148 of Set 3 | wahran\n",
      "There was a Key Error\n",
      "Processing Record 149 of Set 3 | koungou\n",
      "Processing Record 150 of Set 3 | beloha\n",
      "Processing Record 151 of Set 3 | healdsburg\n",
      "Processing Record 152 of Set 3 | santiago\n",
      "Processing Record 153 of Set 3 | caronport\n",
      "Processing Record 154 of Set 3 | san felipe\n",
      "Processing Record 155 of Set 3 | mikkeli\n",
      "Processing Record 156 of Set 3 | grand gaube\n",
      "Processing Record 157 of Set 3 | port-gentil\n",
      "Processing Record 158 of Set 3 | methoni\n",
      "Processing Record 159 of Set 3 | victoria\n",
      "Processing Record 160 of Set 3 | yulara\n",
      "Processing Record 161 of Set 3 | marcona\n",
      "There was a Key Error\n",
      "Processing Record 162 of Set 3 | tigil\n",
      "Processing Record 163 of Set 3 | kavaratti\n",
      "Processing Record 164 of Set 3 | imari\n",
      "Processing Record 165 of Set 3 | saldanha\n",
      "Processing Record 166 of Set 3 | porto novo\n",
      "Processing Record 167 of Set 3 | coos bay\n",
      "Processing Record 168 of Set 3 | atuona\n",
      "Processing Record 169 of Set 3 | ottawa\n",
      "Processing Record 170 of Set 3 | karratha\n",
      "Processing Record 171 of Set 3 | sentyabrskiy\n",
      "There was a Key Error\n",
      "Processing Record 172 of Set 3 | bengkulu\n",
      "Processing Record 173 of Set 3 | tsabong\n",
      "Processing Record 174 of Set 3 | ndele\n",
      "Processing Record 175 of Set 3 | saskylakh\n",
      "Processing Record 176 of Set 3 | puerto ayora\n",
      "Processing Record 177 of Set 3 | yumen\n",
      "Processing Record 178 of Set 3 | tateyama\n",
      "Processing Record 179 of Set 3 | esperance\n",
      "Processing Record 180 of Set 4 | grand river south east\n",
      "There was a Key Error\n",
      "Processing Record 181 of Set 4 | tuatapere\n",
      "Processing Record 182 of Set 4 | hermon\n",
      "Processing Record 183 of Set 4 | nantucket\n",
      "Processing Record 184 of Set 4 | mayo\n",
      "Processing Record 185 of Set 4 | hanusovice\n",
      "Processing Record 186 of Set 4 | palabuhanratu\n",
      "There was a Key Error\n",
      "Processing Record 187 of Set 4 | tura\n"
     ]
    },
    {
     "name": "stdout",
     "output_type": "stream",
     "text": [
      "Processing Record 188 of Set 4 | puerto baquerizo moreno\n",
      "Processing Record 189 of Set 4 | leshukonskoye\n",
      "Processing Record 190 of Set 4 | mandalgovi\n",
      "Processing Record 191 of Set 4 | buluang\n",
      "Processing Record 192 of Set 4 | genhe\n",
      "Processing Record 193 of Set 4 | bukachacha\n",
      "Processing Record 194 of Set 4 | mogadishu\n",
      "Processing Record 195 of Set 4 | deputatskiy\n",
      "Processing Record 196 of Set 4 | hamilton\n",
      "Processing Record 197 of Set 4 | nome\n",
      "Processing Record 198 of Set 4 | la paz\n",
      "Processing Record 199 of Set 4 | tasiilaq\n",
      "Processing Record 200 of Set 4 | bac lieu\n",
      "Processing Record 201 of Set 4 | iberia\n",
      "Processing Record 202 of Set 4 | maningrida\n",
      "Processing Record 203 of Set 4 | marawi\n",
      "Processing Record 204 of Set 4 | geraldton\n",
      "Processing Record 205 of Set 4 | palamos\n",
      "Processing Record 206 of Set 4 | maceio\n",
      "Processing Record 207 of Set 4 | georgetown\n",
      "Processing Record 208 of Set 4 | asmara\n",
      "Processing Record 209 of Set 4 | payakumbuh\n",
      "Processing Record 210 of Set 4 | palu\n",
      "Processing Record 211 of Set 4 | wolgast\n",
      "Processing Record 212 of Set 4 | svetlaya\n",
      "Processing Record 213 of Set 4 | le port\n",
      "Processing Record 214 of Set 4 | necochea\n",
      "Processing Record 215 of Set 4 | ghanzi\n",
      "Processing Record 216 of Set 4 | faisalabad\n",
      "Processing Record 217 of Set 4 | rio gallegos\n",
      "Processing Record 218 of Set 4 | chuy\n",
      "Processing Record 219 of Set 4 | acarau\n",
      "Processing Record 220 of Set 4 | doha\n",
      "Processing Record 221 of Set 4 | uwayl\n",
      "There was a Key Error\n",
      "Processing Record 222 of Set 4 | banmo\n",
      "There was a Key Error\n",
      "Processing Record 223 of Set 4 | khed brahma\n",
      "Processing Record 224 of Set 4 | sola\n",
      "Processing Record 225 of Set 4 | svetlogorsk\n",
      "Processing Record 226 of Set 4 | tefe\n",
      "Processing Record 227 of Set 4 | ostrovnoy\n",
      "Processing Record 228 of Set 4 | hofn\n",
      "Processing Record 229 of Set 4 | preobrazheniye\n",
      "Processing Record 230 of Set 4 | mezen\n",
      "Processing Record 231 of Set 4 | rosarito\n",
      "Processing Record 232 of Set 4 | wladyslawowo\n",
      "Processing Record 233 of Set 4 | grindavik\n",
      "Processing Record 234 of Set 4 | youghal\n",
      "Processing Record 235 of Set 4 | mount gambier\n",
      "Processing Record 236 of Set 4 | chokurdakh\n",
      "Processing Record 237 of Set 4 | zhigansk\n",
      "Processing Record 238 of Set 4 | alta\n",
      "Processing Record 239 of Set 4 | vila velha\n",
      "Processing Record 240 of Set 5 | belaya gora\n",
      "Processing Record 241 of Set 5 | fairbanks\n",
      "Processing Record 242 of Set 5 | tezu\n",
      "Processing Record 243 of Set 5 | pisco\n",
      "Processing Record 244 of Set 5 | talnakh\n",
      "Processing Record 245 of Set 5 | pevek\n",
      "Processing Record 246 of Set 5 | mayakonda\n",
      "Processing Record 247 of Set 5 | notre-dame-de-gravenchon\n",
      "Processing Record 248 of Set 5 | severo-kurilsk\n",
      "Processing Record 249 of Set 5 | yatou\n",
      "Processing Record 250 of Set 5 | kidal\n",
      "Processing Record 251 of Set 5 | arraial do cabo\n",
      "Processing Record 252 of Set 5 | sangar\n",
      "Processing Record 253 of Set 5 | ozernovskiy\n",
      "Processing Record 254 of Set 5 | bone\n",
      "Processing Record 255 of Set 5 | glubokoe\n",
      "There was a Key Error\n",
      "Processing Record 256 of Set 5 | kuche\n",
      "There was a Key Error\n",
      "Processing Record 257 of Set 5 | northam\n",
      "Processing Record 258 of Set 5 | taolanaro\n",
      "There was a Key Error\n",
      "Processing Record 259 of Set 5 | dinajpur\n",
      "Processing Record 260 of Set 5 | manado\n",
      "Processing Record 261 of Set 5 | tonj\n",
      "Processing Record 262 of Set 5 | aktash\n",
      "Processing Record 263 of Set 5 | rupnagar\n",
      "Processing Record 264 of Set 5 | ilmajoki\n",
      "Processing Record 265 of Set 5 | bati\n",
      "Processing Record 266 of Set 5 | kahului\n",
      "Processing Record 267 of Set 5 | pampa\n",
      "Processing Record 268 of Set 5 | saint-francois\n",
      "Processing Record 269 of Set 5 | yermakovskoye\n",
      "Processing Record 270 of Set 5 | kerchevskiy\n",
      "Processing Record 271 of Set 5 | itaituba\n",
      "Processing Record 272 of Set 5 | vaitupu\n",
      "There was a Key Error\n",
      "Processing Record 273 of Set 5 | fare\n",
      "Processing Record 274 of Set 5 | trelew\n",
      "Processing Record 275 of Set 5 | bantogon\n",
      "Processing Record 276 of Set 5 | huarmey\n",
      "Processing Record 277 of Set 5 | tambacounda\n",
      "Processing Record 278 of Set 5 | beringovskiy\n",
      "Processing Record 279 of Set 5 | shimizu\n",
      "Processing Record 280 of Set 5 | straseni\n",
      "Processing Record 281 of Set 5 | ambilobe\n",
      "Processing Record 282 of Set 5 | roald\n",
      "Processing Record 283 of Set 5 | ulaangom\n",
      "Processing Record 284 of Set 5 | dingle\n",
      "Processing Record 285 of Set 5 | muyezerskiy\n",
      "Processing Record 286 of Set 5 | dauriya\n",
      "Processing Record 287 of Set 5 | cap malheureux\n",
      "Processing Record 288 of Set 5 | nikolskoye\n",
      "Processing Record 289 of Set 5 | adrar\n",
      "Processing Record 290 of Set 5 | brownfield\n",
      "Processing Record 291 of Set 5 | dali\n",
      "Processing Record 292 of Set 5 | sal rei\n",
      "Processing Record 293 of Set 5 | riyadh\n",
      "Processing Record 294 of Set 5 | palana\n",
      "Processing Record 295 of Set 5 | shingu\n",
      "Processing Record 296 of Set 5 | pandharpur\n",
      "Processing Record 297 of Set 5 | asheville\n",
      "Processing Record 298 of Set 5 | hervey bay\n",
      "Processing Record 299 of Set 5 | ponta do sol\n",
      "Processing Record 300 of Set 6 | hudson bay\n",
      "Processing Record 301 of Set 6 | sterling\n",
      "Processing Record 302 of Set 6 | karatau\n",
      "Processing Record 303 of Set 6 | villa maria\n",
      "Processing Record 304 of Set 6 | paamiut\n",
      "Processing Record 305 of Set 6 | puerto colombia\n",
      "Processing Record 306 of Set 6 | vardo\n",
      "Processing Record 307 of Set 6 | crab hill\n",
      "There was a Key Error\n",
      "Processing Record 308 of Set 6 | tazovskiy\n",
      "Processing Record 309 of Set 6 | sylvania\n",
      "Processing Record 310 of Set 6 | tarudant\n",
      "There was a Key Error\n",
      "Processing Record 311 of Set 6 | dubenskiy\n",
      "There was a Key Error\n",
      "Processing Record 312 of Set 6 | amapa\n",
      "Processing Record 313 of Set 6 | san jeronimo\n",
      "Processing Record 314 of Set 6 | lorengau\n",
      "Processing Record 315 of Set 6 | poya\n",
      "Processing Record 316 of Set 6 | kang\n",
      "Processing Record 317 of Set 6 | pokrovskoye\n",
      "Processing Record 318 of Set 6 | ishigaki\n",
      "Processing Record 319 of Set 6 | alexandria\n",
      "Processing Record 320 of Set 6 | nyuksenitsa\n",
      "Processing Record 321 of Set 6 | morant bay\n",
      "Processing Record 322 of Set 6 | agadez\n",
      "Processing Record 323 of Set 6 | marsabit\n",
      "Processing Record 324 of Set 6 | hasaki\n",
      "Processing Record 325 of Set 6 | taber\n",
      "Processing Record 326 of Set 6 | clyde river\n",
      "Processing Record 327 of Set 6 | palampur\n",
      "Processing Record 328 of Set 6 | puri\n",
      "Processing Record 329 of Set 6 | allanridge\n",
      "Processing Record 330 of Set 6 | lienz\n",
      "Processing Record 331 of Set 6 | tsienyane\n",
      "There was a Key Error\n",
      "Processing Record 332 of Set 6 | sur\n",
      "Processing Record 333 of Set 6 | chumikan\n",
      "Processing Record 334 of Set 6 | booue\n",
      "Processing Record 335 of Set 6 | tall kayf\n",
      "Processing Record 336 of Set 6 | podor\n",
      "Processing Record 337 of Set 6 | kaeo\n",
      "Processing Record 338 of Set 6 | lipin bor\n",
      "Processing Record 339 of Set 6 | catamarca\n",
      "Processing Record 340 of Set 6 | bathsheba\n",
      "Processing Record 341 of Set 6 | betioky\n",
      "Processing Record 342 of Set 6 | isangel\n",
      "Processing Record 343 of Set 6 | portland\n",
      "Processing Record 344 of Set 6 | aliwal north\n",
      "Processing Record 345 of Set 6 | manggar\n",
      "Processing Record 346 of Set 6 | conde\n",
      "Processing Record 347 of Set 6 | sitka\n",
      "Processing Record 348 of Set 6 | samusu\n",
      "There was a Key Error\n",
      "Processing Record 349 of Set 6 | tayoltita\n",
      "Processing Record 350 of Set 6 | bystrice nad pernstejnem\n",
      "Processing Record 351 of Set 6 | husavik\n",
      "Processing Record 352 of Set 6 | rudnyy\n",
      "Processing Record 353 of Set 6 | astara\n",
      "Processing Record 354 of Set 6 | sindou\n",
      "Processing Record 355 of Set 6 | glendive\n",
      "Processing Record 356 of Set 6 | faya\n",
      "Processing Record 357 of Set 6 | bulawayo\n",
      "Processing Record 358 of Set 6 | sao joao da barra\n",
      "Processing Record 359 of Set 6 | umzimvubu\n",
      "There was a Key Error\n",
      "Processing Record 360 of Set 7 | margate\n",
      "Processing Record 361 of Set 7 | vila\n",
      "Processing Record 362 of Set 7 | cayenne\n",
      "Processing Record 363 of Set 7 | juba\n",
      "Processing Record 364 of Set 7 | ahipara\n",
      "Processing Record 365 of Set 7 | sorland\n",
      "Processing Record 366 of Set 7 | puerto del rosario\n",
      "Processing Record 367 of Set 7 | bur gabo\n",
      "There was a Key Error\n",
      "Processing Record 368 of Set 7 | sa kaeo\n",
      "Processing Record 369 of Set 7 | boa vista\n",
      "Processing Record 370 of Set 7 | pangody\n",
      "Processing Record 371 of Set 7 | araripe\n",
      "Processing Record 372 of Set 7 | udachnyy\n",
      "Processing Record 373 of Set 7 | barawe\n",
      "There was a Key Error\n",
      "Processing Record 374 of Set 7 | snezhnogorsk\n",
      "Processing Record 375 of Set 7 | katsuura\n"
     ]
    },
    {
     "name": "stdout",
     "output_type": "stream",
     "text": [
      "Processing Record 376 of Set 7 | asau\n",
      "Processing Record 377 of Set 7 | khatanga\n",
      "Processing Record 378 of Set 7 | saint-leu\n",
      "Processing Record 379 of Set 7 | mocuba\n",
      "Processing Record 380 of Set 7 | tumpat\n",
      "Processing Record 381 of Set 7 | saint andrews\n",
      "Processing Record 382 of Set 7 | veraval\n",
      "Processing Record 383 of Set 7 | abu road\n",
      "Processing Record 384 of Set 7 | karamay\n",
      "There was a Key Error\n",
      "Processing Record 385 of Set 7 | kugulta\n",
      "Processing Record 386 of Set 7 | ayan\n",
      "Processing Record 387 of Set 7 | ugoofaaru\n",
      "Processing Record 388 of Set 7 | kikwit\n",
      "Processing Record 389 of Set 7 | qaqortoq\n",
      "Processing Record 390 of Set 7 | sakhipur\n",
      "Processing Record 391 of Set 7 | sao paulo de olivenca\n",
      "Processing Record 392 of Set 7 | madang\n",
      "Processing Record 393 of Set 7 | taupo\n",
      "Processing Record 394 of Set 7 | morgan city\n",
      "Processing Record 395 of Set 7 | nekrasovskoye\n",
      "Processing Record 396 of Set 7 | tumannyy\n",
      "There was a Key Error\n",
      "Processing Record 397 of Set 7 | salalah\n",
      "Processing Record 398 of Set 7 | ewa beach\n",
      "Processing Record 399 of Set 7 | richmond\n",
      "Processing Record 400 of Set 7 | cockburn town\n",
      "Processing Record 401 of Set 7 | wuwei\n",
      "Processing Record 402 of Set 7 | ixtapa\n",
      "Processing Record 403 of Set 7 | babanusah\n",
      "There was a Key Error\n",
      "Processing Record 404 of Set 7 | diamantino\n",
      "Processing Record 405 of Set 7 | waipawa\n",
      "Processing Record 406 of Set 7 | sobolevo\n",
      "Processing Record 407 of Set 7 | taksimo\n",
      "Processing Record 408 of Set 7 | furano\n",
      "Processing Record 409 of Set 7 | yerbogachen\n",
      "Processing Record 410 of Set 7 | smolyaninovo\n",
      "Processing Record 411 of Set 7 | pandan\n",
      "Processing Record 412 of Set 7 | zhifang\n",
      "Processing Record 413 of Set 7 | araouane\n",
      "Processing Record 414 of Set 7 | erdenet\n",
      "Processing Record 415 of Set 7 | gari\n",
      "Processing Record 416 of Set 7 | amahai\n",
      "Processing Record 417 of Set 7 | blonduos\n",
      "There was a Key Error\n",
      "Processing Record 418 of Set 7 | ferrol\n",
      "Processing Record 419 of Set 7 | valparaiso\n",
      "Processing Record 420 of Set 8 | clinton\n",
      "Processing Record 421 of Set 8 | caravelas\n",
      "Processing Record 422 of Set 8 | hailar\n",
      "Processing Record 423 of Set 8 | nuevitas\n",
      "Processing Record 424 of Set 8 | rawson\n",
      "Processing Record 425 of Set 8 | inongo\n",
      "Processing Record 426 of Set 8 | yokadouma\n",
      "Processing Record 427 of Set 8 | awjilah\n",
      "Processing Record 428 of Set 8 | dujuma\n",
      "There was a Key Error\n",
      "Processing Record 429 of Set 8 | narsaq\n",
      "Processing Record 430 of Set 8 | chikwawa\n",
      "Processing Record 431 of Set 8 | carson city\n",
      "Processing Record 432 of Set 8 | maniitsoq\n",
      "Processing Record 433 of Set 8 | nioro\n",
      "Processing Record 434 of Set 8 | harper\n",
      "Processing Record 435 of Set 8 | tagab\n",
      "Processing Record 436 of Set 8 | khormuj\n",
      "There was a Key Error\n",
      "Processing Record 437 of Set 8 | neiafu\n",
      "Processing Record 438 of Set 8 | taoudenni\n",
      "Processing Record 439 of Set 8 | bonavista\n",
      "Processing Record 440 of Set 8 | boardman\n",
      "Processing Record 441 of Set 8 | normandin\n",
      "Processing Record 442 of Set 8 | kailua\n",
      "Processing Record 443 of Set 8 | charters towers\n",
      "Processing Record 444 of Set 8 | coelho neto\n",
      "Processing Record 445 of Set 8 | pangnirtung\n",
      "Processing Record 446 of Set 8 | henties bay\n",
      "Processing Record 447 of Set 8 | mahajanga\n",
      "Processing Record 448 of Set 8 | loandjili\n",
      "Processing Record 449 of Set 8 | port macquarie\n",
      "Processing Record 450 of Set 8 | ponta delgada\n",
      "Processing Record 451 of Set 8 | camana\n",
      "Processing Record 452 of Set 8 | lalomanu\n",
      "There was a Key Error\n",
      "Processing Record 453 of Set 8 | mashhad\n",
      "Processing Record 454 of Set 8 | coihaique\n",
      "Processing Record 455 of Set 8 | ha noi\n",
      "Processing Record 456 of Set 8 | walvis bay\n",
      "Processing Record 457 of Set 8 | ayagoz\n",
      "Processing Record 458 of Set 8 | baglung\n",
      "Processing Record 459 of Set 8 | westport\n",
      "Processing Record 460 of Set 8 | ziri\n",
      "Processing Record 461 of Set 8 | nesbyen\n",
      "Processing Record 462 of Set 8 | siayan\n",
      "Processing Record 463 of Set 8 | boddam\n",
      "Processing Record 464 of Set 8 | uvira\n",
      "Processing Record 465 of Set 8 | tulum\n",
      "Processing Record 466 of Set 8 | los llanos de aridane\n",
      "Processing Record 467 of Set 8 | timmins\n",
      "Processing Record 468 of Set 8 | apostolove\n",
      "Processing Record 469 of Set 8 | maltahohe\n",
      "Processing Record 470 of Set 8 | anadyr\n",
      "Processing Record 471 of Set 8 | bayir\n",
      "Processing Record 472 of Set 8 | morro bay\n",
      "Processing Record 473 of Set 8 | general roca\n",
      "Processing Record 474 of Set 8 | balimo\n",
      "There was a Key Error\n",
      "Processing Record 475 of Set 8 | nuevo laredo\n",
      "Processing Record 476 of Set 8 | talara\n",
      "Processing Record 477 of Set 8 | zhanaozen\n",
      "Processing Record 478 of Set 8 | zhangye\n",
      "Processing Record 479 of Set 8 | muravlenko\n",
      "Processing Record 480 of Set 9 | itarema\n",
      "Processing Record 481 of Set 9 | akdepe\n",
      "Processing Record 482 of Set 9 | colares\n",
      "Processing Record 483 of Set 9 | quelimane\n",
      "Processing Record 484 of Set 9 | romny\n",
      "Processing Record 485 of Set 9 | verkhoyansk\n",
      "Processing Record 486 of Set 9 | jiuquan\n",
      "Processing Record 487 of Set 9 | amderma\n",
      "There was a Key Error\n",
      "Processing Record 488 of Set 9 | juneau\n",
      "Processing Record 489 of Set 9 | ikalamavony\n",
      "Processing Record 490 of Set 9 | birao\n",
      "Processing Record 491 of Set 9 | luganville\n",
      "Processing Record 492 of Set 9 | ygatimi\n",
      "Processing Record 493 of Set 9 | dudinka\n",
      "Processing Record 494 of Set 9 | tautira\n",
      "Processing Record 495 of Set 9 | batemans bay\n",
      "Processing Record 496 of Set 9 | aviles\n",
      "Processing Record 497 of Set 9 | verkhnyaya inta\n",
      "Processing Record 498 of Set 9 | tessalit\n",
      "Processing Record 499 of Set 9 | samarai\n",
      "Processing Record 500 of Set 9 | milkovo\n",
      "Processing Record 501 of Set 9 | eydhafushi\n",
      "Processing Record 502 of Set 9 | nuuk\n",
      "Processing Record 503 of Set 9 | hualmay\n",
      "Processing Record 504 of Set 9 | komsomolskiy\n",
      "Processing Record 505 of Set 9 | yeppoon\n",
      "Processing Record 506 of Set 9 | betul\n",
      "Processing Record 507 of Set 9 | umm bab\n",
      "Processing Record 508 of Set 9 | sambava\n",
      "Processing Record 509 of Set 9 | sri aman\n",
      "Processing Record 510 of Set 9 | vanavara\n",
      "Processing Record 511 of Set 9 | zaysan\n",
      "Processing Record 512 of Set 9 | russell\n",
      "Processing Record 513 of Set 9 | turukhansk\n",
      "Processing Record 514 of Set 9 | stephenville\n",
      "Processing Record 515 of Set 9 | samalaeulu\n",
      "There was a Key Error\n",
      "Processing Record 516 of Set 9 | ust-kulom\n",
      "Processing Record 517 of Set 9 | muroto\n",
      "Processing Record 518 of Set 9 | aksay\n",
      "Processing Record 519 of Set 9 | ambon\n",
      "Processing Record 520 of Set 9 | brae\n",
      "Processing Record 521 of Set 9 | kota kinabalu\n",
      "Processing Record 522 of Set 9 | banda aceh\n",
      "Processing Record 523 of Set 9 | coquimbo\n",
      "Processing Record 524 of Set 9 | zilair\n",
      "Processing Record 525 of Set 9 | rawannawi\n",
      "There was a Key Error\n",
      "Processing Record 526 of Set 9 | tveit\n",
      "Processing Record 527 of Set 9 | tevriz\n",
      "Processing Record 528 of Set 9 | gamba\n",
      "Processing Record 529 of Set 9 | bartica\n",
      "Processing Record 530 of Set 9 | matagami\n",
      "Processing Record 531 of Set 9 | nyurba\n",
      "Processing Record 532 of Set 9 | isa khel\n",
      "Processing Record 533 of Set 9 | luderitz\n",
      "Processing Record 534 of Set 9 | lethem\n",
      "Processing Record 535 of Set 9 | rovnoye\n",
      "Processing Record 536 of Set 9 | choma\n",
      "Processing Record 537 of Set 9 | mana\n",
      "Processing Record 538 of Set 9 | msanga\n",
      "Processing Record 539 of Set 9 | ca mau\n",
      "Processing Record 540 of Set 10 | zheleznodorozhnyy\n",
      "Processing Record 541 of Set 10 | rawlins\n",
      "Processing Record 542 of Set 10 | burnie\n",
      "Processing Record 543 of Set 10 | mrakovo\n",
      "Processing Record 544 of Set 10 | sioux lookout\n",
      "Processing Record 545 of Set 10 | camacha\n",
      "Processing Record 546 of Set 10 | zelenoborsk\n",
      "Processing Record 547 of Set 10 | rungata\n",
      "There was a Key Error\n",
      "Processing Record 548 of Set 10 | morrope\n",
      "Processing Record 549 of Set 10 | angouleme\n",
      "Processing Record 550 of Set 10 | ballina\n",
      "Processing Record 551 of Set 10 | livadi\n",
      "Processing Record 552 of Set 10 | takaka\n",
      "Processing Record 553 of Set 10 | kishtwar\n",
      "Processing Record 554 of Set 10 | kazalinsk\n",
      "There was a Key Error\n",
      "Processing Record 555 of Set 10 | ouricuri\n",
      "Processing Record 556 of Set 10 | eskil\n",
      "Processing Record 557 of Set 10 | bam\n",
      "Processing Record 558 of Set 10 | verkhnechusovskiye gorodki\n",
      "Processing Record 559 of Set 10 | sao sepe\n",
      "Processing Record 560 of Set 10 | paengaroa\n",
      "Processing Record 561 of Set 10 | hrebinka\n",
      "Processing Record 562 of Set 10 | miri\n",
      "Processing Record 563 of Set 10 | whittlesea\n"
     ]
    },
    {
     "name": "stdout",
     "output_type": "stream",
     "text": [
      "Processing Record 564 of Set 10 | terrasini\n",
      "Processing Record 565 of Set 10 | georgiyevka\n",
      "Processing Record 566 of Set 10 | loralai\n",
      "Processing Record 567 of Set 10 | port elizabeth\n",
      "Processing Record 568 of Set 10 | terney\n",
      "Processing Record 569 of Set 10 | umm kaddadah\n",
      "Processing Record 570 of Set 10 | uusikaupunki\n",
      "Processing Record 571 of Set 10 | alibag\n",
      "Processing Record 572 of Set 10 | ubinskoye\n",
      "Processing Record 573 of Set 10 | wuan\n",
      "Processing Record 574 of Set 10 | altay\n",
      "Processing Record 575 of Set 10 | raseiniai\n",
      "Processing Record 576 of Set 10 | inverness\n",
      "Processing Record 577 of Set 10 | wau\n",
      "Processing Record 578 of Set 10 | ondorhaan\n",
      "There was a Key Error\n",
      "Processing Record 579 of Set 10 | waw\n",
      "Processing Record 580 of Set 10 | cooma\n",
      "Processing Record 581 of Set 10 | celestun\n",
      "Processing Record 582 of Set 10 | artyk\n",
      "There was a Key Error\n",
      "Processing Record 583 of Set 10 | amudat\n",
      "Processing Record 584 of Set 10 | shakhovskaya\n",
      "Processing Record 585 of Set 10 | manzanillo\n",
      "Processing Record 586 of Set 10 | ijaki\n",
      "There was a Key Error\n",
      "Processing Record 587 of Set 10 | elliot\n",
      "Processing Record 588 of Set 10 | bolshoye nagatkino\n",
      "Processing Record 589 of Set 10 | prince rupert\n",
      "Processing Record 590 of Set 10 | ketchikan\n",
      "Processing Record 591 of Set 10 | shchuchye\n",
      "There was a Key Error\n",
      "Processing Record 592 of Set 10 | coria\n",
      "Processing Record 593 of Set 10 | angoche\n",
      "Processing Record 594 of Set 10 | gao\n",
      "Processing Record 595 of Set 10 | abeche\n",
      "Processing Record 596 of Set 10 | ntchisi\n",
      "Processing Record 597 of Set 10 | korla\n",
      "Processing Record 598 of Set 10 | miguel auza\n",
      "There were 49 keyErrors\n"
     ]
    }
   ],
   "source": [
    "# Create weather list\n",
    "weather = []\n",
    "\n",
    "# Set unit as imperial\n",
    "unit = \"imperial\"\n",
    "\n",
    "# Set counter for record, set and timesleep\n",
    "x = 1\n",
    "y = 1\n",
    "z = 0\n",
    "\n",
    "# print line to track status\n",
    "print(f\"Beginning Data Retrieval\")\n",
    "\n",
    "# Create for loop to perform API calls for each city\n",
    "for city in cities:\n",
    "    \n",
    "    #print line to see status of retrieval\n",
    "    print(f\"Processing Record {x} of Set {y} | {city}\")\n",
    "    \n",
    "    #set url\n",
    "    url = \"http://api.openweathermap.org/data/2.5/weather?\"\n",
    "    city = city\n",
    "    query_url = url + \"appid=\" + weather_api_key + \"&q=\" + city + \"&units=\" + unit\n",
    "    \n",
    "    #try to retrieve the data\n",
    "    try:\n",
    "        response = requests.get(query_url).json()\n",
    "        lat = response['coord']['lat']\n",
    "        lng = response['coord']['lon']\n",
    "        temp_max = response['main']['temp_max']\n",
    "        humid = response['main']['humidity']\n",
    "        cloud = response ['clouds']['all']\n",
    "        date = response['dt']\n",
    "        wind = response['wind']['speed']\n",
    "        country = response['sys']['country']\n",
    "        dict = {'City': city,'Lat': lat, 'Lng': lng, 'Max Temp': temp_max, 'Humidity' : humid, 'Cloudiness' : cloud, 'Date':date, \\\n",
    "                'Wind Speed' : wind, 'Country':country}\n",
    "        weather.append(dict)\n",
    "    \n",
    "    # except for keyError\n",
    "    except KeyError:\n",
    "        print(f\"There was a Key Error\")\n",
    "        z = z+1\n",
    "        \n",
    "    x += 1\n",
    "    if x % 60 == 0:\n",
    "        time.sleep(60)\n",
    "        y +=1\n",
    "print(f\"There were {z} keyErrors\")"
   ]
  },
  {
   "cell_type": "markdown",
   "metadata": {},
   "source": [
    "### Convert Raw Data to DataFrame\n",
    "* Export the city data into a .csv.\n",
    "* Display the DataFrame"
   ]
  },
  {
   "cell_type": "code",
   "execution_count": 4,
   "metadata": {},
   "outputs": [
    {
     "data": {
      "text/html": [
       "<div>\n",
       "<style scoped>\n",
       "    .dataframe tbody tr th:only-of-type {\n",
       "        vertical-align: middle;\n",
       "    }\n",
       "\n",
       "    .dataframe tbody tr th {\n",
       "        vertical-align: top;\n",
       "    }\n",
       "\n",
       "    .dataframe thead th {\n",
       "        text-align: right;\n",
       "    }\n",
       "</style>\n",
       "<table border=\"1\" class=\"dataframe\">\n",
       "  <thead>\n",
       "    <tr style=\"text-align: right;\">\n",
       "      <th></th>\n",
       "      <th>City</th>\n",
       "      <th>Lat</th>\n",
       "      <th>Lng</th>\n",
       "      <th>Max Temp</th>\n",
       "      <th>Humidity</th>\n",
       "      <th>Cloudiness</th>\n",
       "      <th>Date</th>\n",
       "      <th>Wind Speed</th>\n",
       "      <th>Country</th>\n",
       "    </tr>\n",
       "  </thead>\n",
       "  <tbody>\n",
       "    <tr>\n",
       "      <th>0</th>\n",
       "      <td>deming</td>\n",
       "      <td>32.2687</td>\n",
       "      <td>-107.7586</td>\n",
       "      <td>87.80</td>\n",
       "      <td>8</td>\n",
       "      <td>1</td>\n",
       "      <td>1621122586</td>\n",
       "      <td>18.41</td>\n",
       "      <td>US</td>\n",
       "    </tr>\n",
       "    <tr>\n",
       "      <th>1</th>\n",
       "      <td>ushuaia</td>\n",
       "      <td>-54.8000</td>\n",
       "      <td>-68.3000</td>\n",
       "      <td>42.80</td>\n",
       "      <td>70</td>\n",
       "      <td>40</td>\n",
       "      <td>1621122294</td>\n",
       "      <td>8.05</td>\n",
       "      <td>AR</td>\n",
       "    </tr>\n",
       "    <tr>\n",
       "      <th>2</th>\n",
       "      <td>port hardy</td>\n",
       "      <td>50.6996</td>\n",
       "      <td>-127.4199</td>\n",
       "      <td>57.20</td>\n",
       "      <td>72</td>\n",
       "      <td>75</td>\n",
       "      <td>1621122586</td>\n",
       "      <td>12.66</td>\n",
       "      <td>CA</td>\n",
       "    </tr>\n",
       "    <tr>\n",
       "      <th>3</th>\n",
       "      <td>torbay</td>\n",
       "      <td>47.6666</td>\n",
       "      <td>-52.7314</td>\n",
       "      <td>41.00</td>\n",
       "      <td>100</td>\n",
       "      <td>75</td>\n",
       "      <td>1621122586</td>\n",
       "      <td>3.44</td>\n",
       "      <td>CA</td>\n",
       "    </tr>\n",
       "    <tr>\n",
       "      <th>4</th>\n",
       "      <td>bluff</td>\n",
       "      <td>-46.6000</td>\n",
       "      <td>168.3333</td>\n",
       "      <td>48.00</td>\n",
       "      <td>82</td>\n",
       "      <td>37</td>\n",
       "      <td>1621122587</td>\n",
       "      <td>5.01</td>\n",
       "      <td>NZ</td>\n",
       "    </tr>\n",
       "    <tr>\n",
       "      <th>...</th>\n",
       "      <td>...</td>\n",
       "      <td>...</td>\n",
       "      <td>...</td>\n",
       "      <td>...</td>\n",
       "      <td>...</td>\n",
       "      <td>...</td>\n",
       "      <td>...</td>\n",
       "      <td>...</td>\n",
       "      <td>...</td>\n",
       "    </tr>\n",
       "    <tr>\n",
       "      <th>544</th>\n",
       "      <td>gao</td>\n",
       "      <td>16.6362</td>\n",
       "      <td>1.6370</td>\n",
       "      <td>88.88</td>\n",
       "      <td>27</td>\n",
       "      <td>40</td>\n",
       "      <td>1621123266</td>\n",
       "      <td>2.33</td>\n",
       "      <td>ML</td>\n",
       "    </tr>\n",
       "    <tr>\n",
       "      <th>545</th>\n",
       "      <td>abeche</td>\n",
       "      <td>13.8292</td>\n",
       "      <td>20.8324</td>\n",
       "      <td>81.28</td>\n",
       "      <td>7</td>\n",
       "      <td>1</td>\n",
       "      <td>1621123267</td>\n",
       "      <td>8.19</td>\n",
       "      <td>TD</td>\n",
       "    </tr>\n",
       "    <tr>\n",
       "      <th>546</th>\n",
       "      <td>ntchisi</td>\n",
       "      <td>-13.5278</td>\n",
       "      <td>33.9149</td>\n",
       "      <td>53.85</td>\n",
       "      <td>78</td>\n",
       "      <td>47</td>\n",
       "      <td>1621123267</td>\n",
       "      <td>1.36</td>\n",
       "      <td>MW</td>\n",
       "    </tr>\n",
       "    <tr>\n",
       "      <th>547</th>\n",
       "      <td>korla</td>\n",
       "      <td>41.7597</td>\n",
       "      <td>86.1469</td>\n",
       "      <td>61.77</td>\n",
       "      <td>39</td>\n",
       "      <td>100</td>\n",
       "      <td>1621123267</td>\n",
       "      <td>11.30</td>\n",
       "      <td>CN</td>\n",
       "    </tr>\n",
       "    <tr>\n",
       "      <th>548</th>\n",
       "      <td>miguel auza</td>\n",
       "      <td>24.2933</td>\n",
       "      <td>-103.4503</td>\n",
       "      <td>81.57</td>\n",
       "      <td>15</td>\n",
       "      <td>55</td>\n",
       "      <td>1621123267</td>\n",
       "      <td>5.73</td>\n",
       "      <td>MX</td>\n",
       "    </tr>\n",
       "  </tbody>\n",
       "</table>\n",
       "<p>549 rows × 9 columns</p>\n",
       "</div>"
      ],
      "text/plain": [
       "            City      Lat       Lng  Max Temp  Humidity  Cloudiness  \\\n",
       "0         deming  32.2687 -107.7586     87.80         8           1   \n",
       "1        ushuaia -54.8000  -68.3000     42.80        70          40   \n",
       "2     port hardy  50.6996 -127.4199     57.20        72          75   \n",
       "3         torbay  47.6666  -52.7314     41.00       100          75   \n",
       "4          bluff -46.6000  168.3333     48.00        82          37   \n",
       "..           ...      ...       ...       ...       ...         ...   \n",
       "544          gao  16.6362    1.6370     88.88        27          40   \n",
       "545       abeche  13.8292   20.8324     81.28         7           1   \n",
       "546      ntchisi -13.5278   33.9149     53.85        78          47   \n",
       "547        korla  41.7597   86.1469     61.77        39         100   \n",
       "548  miguel auza  24.2933 -103.4503     81.57        15          55   \n",
       "\n",
       "           Date  Wind Speed Country  \n",
       "0    1621122586       18.41      US  \n",
       "1    1621122294        8.05      AR  \n",
       "2    1621122586       12.66      CA  \n",
       "3    1621122586        3.44      CA  \n",
       "4    1621122587        5.01      NZ  \n",
       "..          ...         ...     ...  \n",
       "544  1621123266        2.33      ML  \n",
       "545  1621123267        8.19      TD  \n",
       "546  1621123267        1.36      MW  \n",
       "547  1621123267       11.30      CN  \n",
       "548  1621123267        5.73      MX  \n",
       "\n",
       "[549 rows x 9 columns]"
      ]
     },
     "execution_count": 4,
     "metadata": {},
     "output_type": "execute_result"
    }
   ],
   "source": [
    "weather_df = pd.DataFrame(weather)\n",
    "weather_df = weather_df.dropna()\n",
    "weather_df.to_csv('weather_output.csv', index = False)\n",
    "weather_df"
   ]
  },
  {
   "cell_type": "markdown",
   "metadata": {},
   "source": [
    "## Inspect the data and remove the cities where the humidity > 100%.\n",
    "----\n",
    "Skip this step if there are no cities that have humidity > 100%. "
   ]
  },
  {
   "cell_type": "code",
   "execution_count": 5,
   "metadata": {},
   "outputs": [
    {
     "data": {
      "text/html": [
       "<div>\n",
       "<style scoped>\n",
       "    .dataframe tbody tr th:only-of-type {\n",
       "        vertical-align: middle;\n",
       "    }\n",
       "\n",
       "    .dataframe tbody tr th {\n",
       "        vertical-align: top;\n",
       "    }\n",
       "\n",
       "    .dataframe thead th {\n",
       "        text-align: right;\n",
       "    }\n",
       "</style>\n",
       "<table border=\"1\" class=\"dataframe\">\n",
       "  <thead>\n",
       "    <tr style=\"text-align: right;\">\n",
       "      <th></th>\n",
       "      <th>Lat</th>\n",
       "      <th>Lng</th>\n",
       "      <th>Max Temp</th>\n",
       "      <th>Humidity</th>\n",
       "      <th>Cloudiness</th>\n",
       "      <th>Date</th>\n",
       "      <th>Wind Speed</th>\n",
       "    </tr>\n",
       "  </thead>\n",
       "  <tbody>\n",
       "    <tr>\n",
       "      <th>count</th>\n",
       "      <td>549.000000</td>\n",
       "      <td>549.000000</td>\n",
       "      <td>549.000000</td>\n",
       "      <td>549.000000</td>\n",
       "      <td>549.000000</td>\n",
       "      <td>5.490000e+02</td>\n",
       "      <td>549.000000</td>\n",
       "    </tr>\n",
       "    <tr>\n",
       "      <th>mean</th>\n",
       "      <td>20.586972</td>\n",
       "      <td>21.819632</td>\n",
       "      <td>63.468288</td>\n",
       "      <td>67.976321</td>\n",
       "      <td>54.316940</td>\n",
       "      <td>1.621123e+09</td>\n",
       "      <td>7.803934</td>\n",
       "    </tr>\n",
       "    <tr>\n",
       "      <th>std</th>\n",
       "      <td>33.654288</td>\n",
       "      <td>89.110365</td>\n",
       "      <td>16.378307</td>\n",
       "      <td>23.019140</td>\n",
       "      <td>37.160111</td>\n",
       "      <td>2.224190e+02</td>\n",
       "      <td>5.232023</td>\n",
       "    </tr>\n",
       "    <tr>\n",
       "      <th>min</th>\n",
       "      <td>-54.800000</td>\n",
       "      <td>-175.200000</td>\n",
       "      <td>12.220000</td>\n",
       "      <td>7.000000</td>\n",
       "      <td>0.000000</td>\n",
       "      <td>1.621122e+09</td>\n",
       "      <td>0.290000</td>\n",
       "    </tr>\n",
       "    <tr>\n",
       "      <th>25%</th>\n",
       "      <td>-6.884400</td>\n",
       "      <td>-55.983600</td>\n",
       "      <td>52.380000</td>\n",
       "      <td>54.000000</td>\n",
       "      <td>20.000000</td>\n",
       "      <td>1.621123e+09</td>\n",
       "      <td>3.940000</td>\n",
       "    </tr>\n",
       "    <tr>\n",
       "      <th>50%</th>\n",
       "      <td>25.700000</td>\n",
       "      <td>28.583300</td>\n",
       "      <td>64.400000</td>\n",
       "      <td>73.000000</td>\n",
       "      <td>67.000000</td>\n",
       "      <td>1.621123e+09</td>\n",
       "      <td>6.330000</td>\n",
       "    </tr>\n",
       "    <tr>\n",
       "      <th>75%</th>\n",
       "      <td>49.417000</td>\n",
       "      <td>93.450000</td>\n",
       "      <td>77.000000</td>\n",
       "      <td>87.000000</td>\n",
       "      <td>90.000000</td>\n",
       "      <td>1.621123e+09</td>\n",
       "      <td>10.400000</td>\n",
       "    </tr>\n",
       "    <tr>\n",
       "      <th>max</th>\n",
       "      <td>78.218600</td>\n",
       "      <td>179.316700</td>\n",
       "      <td>97.250000</td>\n",
       "      <td>100.000000</td>\n",
       "      <td>100.000000</td>\n",
       "      <td>1.621123e+09</td>\n",
       "      <td>34.720000</td>\n",
       "    </tr>\n",
       "  </tbody>\n",
       "</table>\n",
       "</div>"
      ],
      "text/plain": [
       "              Lat         Lng    Max Temp    Humidity  Cloudiness  \\\n",
       "count  549.000000  549.000000  549.000000  549.000000  549.000000   \n",
       "mean    20.586972   21.819632   63.468288   67.976321   54.316940   \n",
       "std     33.654288   89.110365   16.378307   23.019140   37.160111   \n",
       "min    -54.800000 -175.200000   12.220000    7.000000    0.000000   \n",
       "25%     -6.884400  -55.983600   52.380000   54.000000   20.000000   \n",
       "50%     25.700000   28.583300   64.400000   73.000000   67.000000   \n",
       "75%     49.417000   93.450000   77.000000   87.000000   90.000000   \n",
       "max     78.218600  179.316700   97.250000  100.000000  100.000000   \n",
       "\n",
       "               Date  Wind Speed  \n",
       "count  5.490000e+02  549.000000  \n",
       "mean   1.621123e+09    7.803934  \n",
       "std    2.224190e+02    5.232023  \n",
       "min    1.621122e+09    0.290000  \n",
       "25%    1.621123e+09    3.940000  \n",
       "50%    1.621123e+09    6.330000  \n",
       "75%    1.621123e+09   10.400000  \n",
       "max    1.621123e+09   34.720000  "
      ]
     },
     "execution_count": 5,
     "metadata": {},
     "output_type": "execute_result"
    }
   ],
   "source": [
    "#  Get the indices of cities that have humidity over 100%.\n",
    "weather_df.describe()\n",
    "\n"
   ]
  },
  {
   "cell_type": "code",
   "execution_count": 8,
   "metadata": {},
   "outputs": [],
   "source": [
    "# Make a new DataFrame equal to the city data to drop all humidity outliers by index.\n",
    "# Passing \"inplace=False\" will make a copy of the city_data DataFrame, which we call \"clean_city_data\".\n"
   ]
  },
  {
   "cell_type": "markdown",
   "metadata": {},
   "source": [
    "## Plotting the Data\n",
    "* Use proper labeling of the plots using plot titles (including date of analysis) and axes labels.\n",
    "* Save the plotted figures as .pngs."
   ]
  },
  {
   "cell_type": "code",
   "execution_count": 6,
   "metadata": {},
   "outputs": [
    {
     "data": {
      "text/plain": [
       "'05/15/2021'"
      ]
     },
     "execution_count": 6,
     "metadata": {},
     "output_type": "execute_result"
    }
   ],
   "source": [
    "today = pd.to_datetime(\"today\").strftime(\"%m/%d/%Y\")\n",
    "today"
   ]
  },
  {
   "cell_type": "markdown",
   "metadata": {},
   "source": [
    "## Latitude vs. Temperature Plot"
   ]
  },
  {
   "cell_type": "code",
   "execution_count": 7,
   "metadata": {
    "scrolled": true
   },
   "outputs": [
    {
     "data": {
      "image/png": "[encoded data removed]",
      "text/plain": [
       "<Figure size 432x288 with 1 Axes>"
      ]
     },
     "metadata": {
      "needs_background": "light"
     },
     "output_type": "display_data"
    },
    {
     "data": {
      "text/plain": [
       "<Figure size 432x288 with 0 Axes>"
      ]
     },
     "metadata": {},
     "output_type": "display_data"
    }
   ],
   "source": [
    "weather_df.plot(x ='Lat', y='Max Temp', kind = 'scatter', grid = True, alpha = .8)\n",
    "plt.title(f\"Latitude vs. Temperature (as of {today})\")\n",
    "plt.xlabel(\"Latitude\")\n",
    "plt.ylabel(\"Max Temperature (F)\")\n",
    "plt.show()\n",
    "plt.savefig('Lat vs Temp.png')"
   ]
  },
  {
   "cell_type": "markdown",
   "metadata": {},
   "source": [
    "## Latitude vs. Humidity Plot"
   ]
  },
  {
   "cell_type": "code",
   "execution_count": 8,
   "metadata": {},
   "outputs": [
    {
     "data": {
      "image/png": "[encoded data removed]",
      "text/plain": [
       "<Figure size 432x288 with 1 Axes>"
      ]
     },
     "metadata": {
      "needs_background": "light"
     },
     "output_type": "display_data"
    },
    {
     "data": {
      "text/plain": [
       "<Figure size 432x288 with 0 Axes>"
      ]
     },
     "metadata": {},
     "output_type": "display_data"
    }
   ],
   "source": [
    "weather_df.plot(x ='Lat', y='Humidity', kind = 'scatter', grid = True, alpha = .8)\n",
    "plt.title(f\"Latitude vs. Humidity Plot as of ({today})\")\n",
    "plt.xlabel(\"Latitude\")\n",
    "plt.ylabel(\"Humidity (%)\")\n",
    "plt.show()\n",
    "plt.savefig('Lat vs Humidity.png')"
   ]
  },
  {
   "cell_type": "markdown",
   "metadata": {},
   "source": [
    "## Latitude vs. Cloudiness Plot"
   ]
  },
  {
   "cell_type": "code",
   "execution_count": 9,
   "metadata": {},
   "outputs": [
    {
     "data": {
      "image/png": "[encoded data removed]",
      "text/plain": [
       "<Figure size 432x288 with 1 Axes>"
      ]
     },
     "metadata": {
      "needs_background": "light"
     },
     "output_type": "display_data"
    },
    {
     "data": {
      "text/plain": [
       "<Figure size 432x288 with 0 Axes>"
      ]
     },
     "metadata": {},
     "output_type": "display_data"
    }
   ],
   "source": [
    "weather_df.plot(x ='Lat', y='Cloudiness', kind = 'scatter', grid = True, alpha = .8)\n",
    "plt.title(f\"Latitude vs. Cloudiness Plot as of ({today})\")\n",
    "plt.xlabel(\"Latitude\")\n",
    "plt.ylabel(\"Cloudiness (%)\")\n",
    "plt.show()\n",
    "plt.savefig('Lat vs Cloudiness.png')"
   ]
  },
  {
   "cell_type": "markdown",
   "metadata": {},
   "source": [
    "## Latitude vs. Wind Speed Plot"
   ]
  },
  {
   "cell_type": "code",
   "execution_count": 10,
   "metadata": {},
   "outputs": [
    {
     "data": {
      "image/png": "[encoded data removed]",
      "text/plain": [
       "<Figure size 432x288 with 1 Axes>"
      ]
     },
     "metadata": {
      "needs_background": "light"
     },
     "output_type": "display_data"
    },
    {
     "data": {
      "text/plain": [
       "<Figure size 432x288 with 0 Axes>"
      ]
     },
     "metadata": {},
     "output_type": "display_data"
    }
   ],
   "source": [
    "weather_df.plot(x ='Lat', y='Wind Speed', kind = 'scatter', grid = True, alpha = .8)\n",
    "plt.title(f\"Latitude vs. Wind Speed Plot as of ({today})\")\n",
    "plt.xlabel(\"Latitude\")\n",
    "plt.ylabel(\"Wind Speed (mph)\")\n",
    "plt.show()\n",
    "plt.savefig('Lat vs Wind Speed.png')"
   ]
  },
  {
   "cell_type": "markdown",
   "metadata": {},
   "source": [
    "## Linear Regression"
   ]
  },
  {
   "cell_type": "code",
   "execution_count": 11,
   "metadata": {},
   "outputs": [],
   "source": [
    "n_hem = weather_df.loc[weather_df[\"Lat\"] >= 0, 'Lat']\n",
    "s_hem = weather_df.loc[weather_df[\"Lat\"] < 0, 'Lat']\n",
    "n_hem_temp =  weather_df.loc[weather_df[\"Lat\"] >= 0,'Max Temp']\n",
    "s_hem_temp =  weather_df.loc[weather_df[\"Lat\"] < 0,'Max Temp']\n",
    "n_hem_hum =  weather_df.loc[weather_df[\"Lat\"] >= 0,'Humidity']\n",
    "s_hem_hum =  weather_df.loc[weather_df[\"Lat\"] < 0,'Humidity']\n",
    "n_hem_cloud =  weather_df.loc[weather_df[\"Lat\"] >= 0,'Cloudiness']\n",
    "s_hem_cloud =  weather_df.loc[weather_df[\"Lat\"] < 0,'Cloudiness']\n",
    "n_hem_wind =  weather_df.loc[weather_df[\"Lat\"] >= 0,'Wind Speed']\n",
    "s_hem_wind =  weather_df.loc[weather_df[\"Lat\"] < 0,'Wind Speed']\n",
    "\n"
   ]
  },
  {
   "cell_type": "markdown",
   "metadata": {},
   "source": [
    "####  Northern Hemisphere - Max Temp vs. Latitude Linear Regression"
   ]
  },
  {
   "cell_type": "code",
   "execution_count": 12,
   "metadata": {},
   "outputs": [
    {
     "data": {
      "image/png": "[encoded data removed]",
      "text/plain": [
       "<Figure size 432x288 with 1 Axes>"
      ]
     },
     "metadata": {
      "needs_background": "light"
     },
     "output_type": "display_data"
    },
    {
     "name": "stdout",
     "output_type": "stream",
     "text": [
      "the r-value is -0.8527555945943324\n"
     ]
    },
    {
     "data": {
      "text/plain": [
       "<Figure size 432x288 with 0 Axes>"
      ]
     },
     "metadata": {},
     "output_type": "display_data"
    }
   ],
   "source": [
    "x_values = n_hem\n",
    "y_values = n_hem_temp\n",
    "(slope, intercept, rvalue, pvalue, stderr) = linregress(x_values, y_values)\n",
    "regress_values = x_values * slope + intercept\n",
    "line_eq = \"y = \" + str(round(slope,2)) + \"x + \" + str(round(intercept,2))\n",
    "plt.scatter(x_values,y_values)\n",
    "plt.plot(x_values,regress_values,\"r-\")\n",
    "plt.annotate(line_eq,(5,35),fontsize=15,color=\"red\")\n",
    "plt.xlabel('Latitude')\n",
    "plt.ylabel('Max Temp')\n",
    "plt.show()\n",
    "print(f\"the r-value is {rvalue}\")\n",
    "plt.savefig('Lat vs Max Temp N.Hem.png')"
   ]
  },
  {
   "cell_type": "markdown",
   "metadata": {},
   "source": [
    "####  Southern Hemisphere - Max Temp vs. Latitude Linear Regression"
   ]
  },
  {
   "cell_type": "code",
   "execution_count": 13,
   "metadata": {},
   "outputs": [
    {
     "data": {
      "image/png": "[encoded data removed]",
      "text/plain": [
       "<Figure size 432x288 with 1 Axes>"
      ]
     },
     "metadata": {
      "needs_background": "light"
     },
     "output_type": "display_data"
    },
    {
     "name": "stdout",
     "output_type": "stream",
     "text": [
      "the r-value is 0.7812674932563377\n"
     ]
    },
    {
     "data": {
      "text/plain": [
       "<Figure size 432x288 with 0 Axes>"
      ]
     },
     "metadata": {},
     "output_type": "display_data"
    }
   ],
   "source": [
    "x_values = s_hem\n",
    "y_values = s_hem_temp\n",
    "(slope, intercept, rvalue, pvalue, stderr) = linregress(x_values, y_values)\n",
    "regress_values = x_values * slope + intercept\n",
    "line_eq = \"y = \" + str(round(slope,2)) + \"x + \" + str(round(intercept,2))\n",
    "plt.scatter(x_values,y_values)\n",
    "plt.plot(x_values,regress_values,\"r-\")\n",
    "plt.annotate(line_eq,(-55,70),fontsize=15,color=\"red\")\n",
    "plt.xlabel('Latitude')\n",
    "plt.ylabel('Max Temp')\n",
    "plt.show()\n",
    "print(f\"the r-value is {rvalue}\")\n",
    "plt.savefig('Lat vs Max Temp S.Hem.png')"
   ]
  },
  {
   "cell_type": "markdown",
   "metadata": {},
   "source": [
    "####  Northern Hemisphere - Humidity (%) vs. Latitude Linear Regression"
   ]
  },
  {
   "cell_type": "code",
   "execution_count": 14,
   "metadata": {},
   "outputs": [
    {
     "data": {
      "image/png": "[encoded data removed]",
      "text/plain": [
       "<Figure size 432x288 with 1 Axes>"
      ]
     },
     "metadata": {
      "needs_background": "light"
     },
     "output_type": "display_data"
    },
    {
     "name": "stdout",
     "output_type": "stream",
     "text": [
      "the r-value is 0.1248986596575092\n"
     ]
    },
    {
     "data": {
      "text/plain": [
       "<Figure size 432x288 with 0 Axes>"
      ]
     },
     "metadata": {},
     "output_type": "display_data"
    }
   ],
   "source": [
    "x_values = n_hem\n",
    "y_values = n_hem_hum\n",
    "(slope, intercept, rvalue, pvalue, stderr) = linregress(x_values, y_values)\n",
    "regress_values = x_values * slope + intercept\n",
    "line_eq = \"y = \" + str(round(slope,2)) + \"x + \" + str(round(intercept,2))\n",
    "plt.scatter(x_values,y_values)\n",
    "plt.plot(x_values,regress_values,\"r-\")\n",
    "plt.annotate(line_eq,(70,60),fontsize=15,color=\"red\")\n",
    "plt.xlabel('Latitude')\n",
    "plt.ylabel('Humidity')\n",
    "plt.show()\n",
    "print(f\"the r-value is {rvalue}\")\n",
    "plt.savefig('Lat vs Humidity N.Hem.png')"
   ]
  },
  {
   "cell_type": "markdown",
   "metadata": {},
   "source": [
    "####  Southern Hemisphere - Humidity (%) vs. Latitude Linear Regression"
   ]
  },
  {
   "cell_type": "code",
   "execution_count": 15,
   "metadata": {},
   "outputs": [
    {
     "data": {
      "image/png": "[encoded data removed]",
      "text/plain": [
       "<Figure size 432x288 with 1 Axes>"
      ]
     },
     "metadata": {
      "needs_background": "light"
     },
     "output_type": "display_data"
    },
    {
     "name": "stdout",
     "output_type": "stream",
     "text": [
      "the r-value is 0.15230049580467309\n"
     ]
    },
    {
     "data": {
      "text/plain": [
       "<Figure size 432x288 with 0 Axes>"
      ]
     },
     "metadata": {},
     "output_type": "display_data"
    }
   ],
   "source": [
    "x_values = s_hem\n",
    "y_values = s_hem_hum\n",
    "(slope, intercept, rvalue, pvalue, stderr) = linregress(x_values, y_values)\n",
    "regress_values = x_values * slope + intercept\n",
    "line_eq = \"y = \" + str(round(slope,2)) + \"x + \" + str(round(intercept,2))\n",
    "plt.scatter(x_values,y_values)\n",
    "plt.plot(x_values,regress_values,\"r-\")\n",
    "plt.annotate(line_eq,(-50,60),fontsize=15,color=\"red\")\n",
    "plt.xlabel('Latitude')\n",
    "plt.ylabel('Humidity')\n",
    "plt.show()\n",
    "print(f\"the r-value is {rvalue}\")\n",
    "plt.savefig('Lat vs Humidity S.Hem.png')"
   ]
  },
  {
   "cell_type": "markdown",
   "metadata": {},
   "source": [
    "####  Northern Hemisphere - Cloudiness (%) vs. Latitude Linear Regression"
   ]
  },
  {
   "cell_type": "code",
   "execution_count": 16,
   "metadata": {},
   "outputs": [
    {
     "data": {
      "image/png": "[encoded data removed]",
      "text/plain": [
       "<Figure size 432x288 with 1 Axes>"
      ]
     },
     "metadata": {
      "needs_background": "light"
     },
     "output_type": "display_data"
    },
    {
     "name": "stdout",
     "output_type": "stream",
     "text": [
      "the r-value is 0.09263343013674188\n"
     ]
    },
    {
     "data": {
      "text/plain": [
       "<Figure size 432x288 with 0 Axes>"
      ]
     },
     "metadata": {},
     "output_type": "display_data"
    }
   ],
   "source": [
    "x_values = n_hem\n",
    "y_values = n_hem_cloud\n",
    "(slope, intercept, rvalue, pvalue, stderr) = linregress(x_values, y_values)\n",
    "regress_values = x_values * slope + intercept\n",
    "line_eq = \"y = \" + str(round(slope,2)) + \"x + \" + str(round(intercept,2))\n",
    "plt.scatter(x_values,y_values)\n",
    "plt.plot(x_values,regress_values,\"r-\")\n",
    "plt.annotate(line_eq,(20,55),fontsize=15,color=\"red\")\n",
    "plt.xlabel('Latitude')\n",
    "plt.ylabel('Cloudiness')\n",
    "plt.show()\n",
    "print(f\"the r-value is {rvalue}\")\n",
    "plt.savefig('Lat vs Cloudiness N.Hem.png')"
   ]
  },
  {
   "cell_type": "markdown",
   "metadata": {},
   "source": [
    "####  Southern Hemisphere - Cloudiness (%) vs. Latitude Linear Regression"
   ]
  },
  {
   "cell_type": "code",
   "execution_count": 17,
   "metadata": {},
   "outputs": [
    {
     "data": {
      "image/png": "[encoded data removed]",
      "text/plain": [
       "<Figure size 432x288 with 1 Axes>"
      ]
     },
     "metadata": {
      "needs_background": "light"
     },
     "output_type": "display_data"
    },
    {
     "name": "stdout",
     "output_type": "stream",
     "text": [
      "the r-value is 0.05779871511515251\n"
     ]
    },
    {
     "data": {
      "text/plain": [
       "<Figure size 432x288 with 0 Axes>"
      ]
     },
     "metadata": {},
     "output_type": "display_data"
    }
   ],
   "source": [
    "x_values = s_hem\n",
    "y_values = s_hem_cloud\n",
    "(slope, intercept, rvalue, pvalue, stderr) = linregress(x_values, y_values)\n",
    "regress_values = x_values * slope + intercept\n",
    "line_eq = \"y = \" + str(round(slope,2)) + \"x + \" + str(round(intercept,2))\n",
    "plt.scatter(x_values,y_values)\n",
    "plt.plot(x_values,regress_values,\"r-\")\n",
    "plt.annotate(line_eq,(-50,50),fontsize=15,color=\"red\")\n",
    "plt.xlabel('Latitude')\n",
    "plt.ylabel('Cloudiness')\n",
    "plt.show()\n",
    "print(f\"the r-value is {rvalue}\")\n",
    "plt.savefig('Lat vs Cloudiness S.Hem.png')"
   ]
  },
  {
   "cell_type": "markdown",
   "metadata": {},
   "source": [
    "####  Northern Hemisphere - Wind Speed (mph) vs. Latitude Linear Regression"
   ]
  },
  {
   "cell_type": "code",
   "execution_count": 18,
   "metadata": {},
   "outputs": [
    {
     "data": {
      "image/png": "[encoded data removed]",
      "text/plain": [
       "<Figure size 432x288 with 1 Axes>"
      ]
     },
     "metadata": {
      "needs_background": "light"
     },
     "output_type": "display_data"
    },
    {
     "name": "stdout",
     "output_type": "stream",
     "text": [
      "the r-value is -0.03157727468843967\n"
     ]
    },
    {
     "data": {
      "text/plain": [
       "<Figure size 432x288 with 0 Axes>"
      ]
     },
     "metadata": {},
     "output_type": "display_data"
    }
   ],
   "source": [
    "x_values = n_hem\n",
    "y_values = n_hem_wind\n",
    "(slope, intercept, rvalue, pvalue, stderr) = linregress(x_values, y_values)\n",
    "regress_values = x_values * slope + intercept\n",
    "line_eq = \"y = \" + str(round(slope,2)) + \"x + \" + str(round(intercept,2))\n",
    "plt.scatter(x_values,y_values)\n",
    "plt.plot(x_values,regress_values,\"r-\")\n",
    "plt.annotate(line_eq,(60, 10),fontsize=15,color=\"red\")\n",
    "plt.xlabel('Latitude')\n",
    "plt.ylabel('Wind Speed')\n",
    "plt.show()\n",
    "print(f\"the r-value is {rvalue}\")\n",
    "plt.savefig('Lat vs Wind Speed N.Hem.png')"
   ]
  },
  {
   "cell_type": "markdown",
   "metadata": {},
   "source": [
    "####  Southern Hemisphere - Wind Speed (mph) vs. Latitude Linear Regression"
   ]
  },
  {
   "cell_type": "code",
   "execution_count": 19,
   "metadata": {},
   "outputs": [
    {
     "data": {
      "image/png": "[encoded data removed]",
      "text/plain": [
       "<Figure size 432x288 with 1 Axes>"
      ]
     },
     "metadata": {
      "needs_background": "light"
     },
     "output_type": "display_data"
    },
    {
     "name": "stdout",
     "output_type": "stream",
     "text": [
      "the r-value is -0.04604351150200391\n"
     ]
    },
    {
     "data": {
      "text/plain": [
       "<Figure size 432x288 with 0 Axes>"
      ]
     },
     "metadata": {},
     "output_type": "display_data"
    }
   ],
   "source": [
    "x_values = s_hem\n",
    "y_values = s_hem_wind\n",
    "(slope, intercept, rvalue, pvalue, stderr) = linregress(x_values, y_values)\n",
    "regress_values = x_values * slope + intercept\n",
    "line_eq = \"y = \" + str(round(slope,2)) + \"x + \" + str(round(intercept,2))\n",
    "plt.scatter(x_values,y_values)\n",
    "plt.plot(x_values,regress_values,\"r-\")\n",
    "plt.annotate(line_eq,(-55, 10),fontsize=15,color=\"red\")\n",
    "plt.xlabel('Latitude')\n",
    "plt.ylabel('Wind Speed')\n",
    "plt.show()\n",
    "print(f\"the r-value is {rvalue}\")\n",
    "plt.savefig('Lat vs Wind Speed S.Hem.png')"
   ]
  },
  {
   "cell_type": "code",
   "execution_count": null,
   "metadata": {},
   "outputs": [],
   "source": []
  },
  {
   "cell_type": "code",
   "execution_count": null,
   "metadata": {},
   "outputs": [],
   "source": []
  }
 ],
 "metadata": {
  "anaconda-cloud": {},
  "kernel_info": {
   "name": "python3"
  },
  "kernelspec": {
   "display_name": "Python 3",
   "language": "python",
   "name": "python3"
  },
  "language_info": {
   "codemirror_mode": {
    "name": "ipython",
    "version": 3
   },
   "file_extension": ".py",
   "mimetype": "text/x-python",
   "name": "python",
   "nbconvert_exporter": "python",
   "pygments_lexer": "ipython3",
   "version": "3.8.5"
  },
  "latex_envs": {
   "LaTeX_envs_menu_present": true,
   "autoclose": false,
   "autocomplete": true,
   "bibliofile": "biblio.bib",
   "cite_by": "apalike",
   "current_citInitial": 1,
   "eqLabelWithNumbers": true,
   "eqNumInitial": 1,
   "hotkeys": {
    "equation": "Ctrl-E",
    "itemize": "Ctrl-I"
   },
   "labels_anchors": false,
   "latex_user_defs": false,
   "report_style_numbering": false,
   "user_envs_cfg": false
  },
  "nteract": {
   "version": "0.12.3"
  }
 },
 "nbformat": 4,
 "nbformat_minor": 2
}
