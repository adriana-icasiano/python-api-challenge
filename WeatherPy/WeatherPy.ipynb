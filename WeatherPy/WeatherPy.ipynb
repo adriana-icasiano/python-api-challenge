{
 "cells": [
  {
   "cell_type": "markdown",
   "metadata": {},
   "source": [
    "# WeatherPy\n",
    "----\n",
    "\n",
    "#### Note\n",
    "* Instructions have been included for each segment. You do not have to follow them exactly, but they are included to help you think through the steps."
   ]
  },
  {
   "cell_type": "code",
   "execution_count": 1,
   "metadata": {
    "scrolled": true
   },
   "outputs": [],
   "source": [
    "# Dependencies and Setup\n",
    "import matplotlib.pyplot as plt\n",
    "import pandas as pd\n",
    "import numpy as np\n",
    "import requests\n",
    "import time\n",
    "import json\n",
    "from scipy.stats import linregress\n",
    "from pprint import pprint\n",
    "\n",
    "# Import API key\n",
    "from api_keys import weather_api_key\n",
    "\n",
    "# Incorporated citipy to determine city based on latitude and longitude\n",
    "from citipy import citipy\n",
    "\n",
    "# Output File (CSV)\n",
    "output_data_file = \"output_data/cities.csv\"\n",
    "\n",
    "# Range of latitudes and longitudes\n",
    "lat_range = (-90, 90)\n",
    "lng_range = (-180, 180)"
   ]
  },
  {
   "cell_type": "markdown",
   "metadata": {},
   "source": [
    "## Generate Cities List"
   ]
  },
  {
   "cell_type": "code",
   "execution_count": 2,
   "metadata": {},
   "outputs": [
    {
     "data": {
      "text/plain": [
       "611"
      ]
     },
     "execution_count": 2,
     "metadata": {},
     "output_type": "execute_result"
    }
   ],
   "source": [
    "# List for holding lat_lngs and cities\n",
    "lat_lngs = []\n",
    "cities = []\n",
    "\n",
    "# Create a set of random lat and lng combinations\n",
    "lats = np.random.uniform(lat_range[0], lat_range[1], size=1500)\n",
    "lngs = np.random.uniform(lng_range[0], lng_range[1], size=1500)\n",
    "lat_lngs = zip(lats, lngs)\n",
    "\n",
    "# Identify nearest city for each lat, lng combination\n",
    "for lat_lng in lat_lngs:\n",
    "    city = citipy.nearest_city(lat_lng[0], lat_lng[1]).city_name\n",
    "    \n",
    "    # If the city is unique, then add it to a our cities list\n",
    "    if city not in cities:\n",
    "        cities.append(city)\n",
    "\n",
    "# Print the city count to confirm sufficient count\n",
    "len(cities)"
   ]
  },
  {
   "cell_type": "markdown",
   "metadata": {},
   "source": [
    "### Perform API Calls\n",
    "* Perform a weather check on each city using a series of successive API calls.\n",
    "* Include a print log of each city as it'sbeing processed (with the city number and city name).\n"
   ]
  },
  {
   "cell_type": "code",
   "execution_count": 13,
   "metadata": {
    "scrolled": true
   },
   "outputs": [
    {
     "name": "stdout",
     "output_type": "stream",
     "text": [
      "Beginning Data Retrieval\n",
      "Processing Record 1 of Set 1 | ushuaia\n",
      "Processing Record 2 of Set 1 | bisho\n"
     ]
    }
   ],
   "source": [
    "#do it once\n",
    "#then do it for 3 cities - make sure its works\n",
    "#add time sleep because API only allows 60 calls/minute\n",
    "#then do it for all cities\n",
    "\n",
    "lat = []\n",
    "lng = []\n",
    "humid = []\n",
    "cloud = []\n",
    "wind = []\n",
    "temp_max = []\n",
    "date = []\n",
    "county = []\n",
    "\n",
    "x = 1\n",
    "y = 1\n",
    "print(f\"Beginning Data Retrieval\")\n",
    "for city in cities[:2]:\n",
    "    print(f\"Processing Record {x} of Set {y} | {city}\")\n",
    "    url = \"http://api.openweathermap.org/data/2.5/weather?\"\n",
    "    city = city\n",
    "    query_url = url + \"appid=\" + weather_api_key + \"&q=\" + city\n",
    "    try:\n",
    "        response = requests.get(query_url).json()\n",
    "        lat.append(response['coord']['lat'])\n",
    "        lng.append(response['coord']['lon'])\n",
    "        temp_max.append(response['main']['temp_max'])\n",
    "        humid.append(response['main']['humidity'])\n",
    "        cloud.append(response ['clouds']['all'])\n",
    "        date.append(response['dt'])\n",
    "        wind = response['wind']['speed']\n",
    "        country = response['sys']['country']\n",
    "    except KeyError:\n",
    "        print(f\"There was a Key Error\")\n",
    "    x += 1\n",
    "    if x % 60 == 0:\n",
    "        time.sleep(60)\n",
    "        y +=1\n",
    "    "
   ]
  },
  {
   "cell_type": "code",
   "execution_count": 54,
   "metadata": {},
   "outputs": [
    {
     "name": "stdout",
     "output_type": "stream",
     "text": [
      "Beginning Data Retrieval\n",
      "Processing Record 1 of Set 1 | ushuaia\n",
      "Processing Record 2 of Set 1 | bisho\n",
      "Processing Record 3 of Set 1 | attawapiskat\n",
      "There was a Key Error\n",
      "Processing Record 4 of Set 1 | kavieng\n",
      "Processing Record 5 of Set 1 | rikitea\n",
      "Processing Record 6 of Set 1 | mys shmidta\n",
      "There was a Key Error\n",
      "Processing Record 7 of Set 1 | ribeira grande\n",
      "Processing Record 8 of Set 1 | los llanos de aridane\n",
      "Processing Record 9 of Set 1 | bredasdorp\n",
      "Processing Record 10 of Set 1 | arlit\n"
     ]
    }
   ],
   "source": [
    "#do it once\n",
    "#then do it for 3 cities - make sure its works\n",
    "#add time sleep because API only allows 60 calls/minute\n",
    "#then do it for all cities\n",
    "\n",
    "weather = []\n",
    "\n",
    "x = 1\n",
    "y = 1\n",
    "print(f\"Beginning Data Retrieval\")\n",
    "for city in cities[:10]:\n",
    "    print(f\"Processing Record {x} of Set {y} | {city}\")\n",
    "    url = \"http://api.openweathermap.org/data/2.5/weather?\"\n",
    "    city = city\n",
    "    query_url = url + \"appid=\" + weather_api_key + \"&q=\" + city\n",
    "    try:\n",
    "        response = requests.get(query_url).json()\n",
    "        lat = response['coord']['lat']\n",
    "        lng = response['coord']['lon']\n",
    "        temp_max = response['main']['temp_max']\n",
    "        humid = response['main']['humidity']\n",
    "        cloud = response ['clouds']['all']\n",
    "        date = response['dt']\n",
    "        wind = response['wind']['speed']\n",
    "        country = response['sys']['country']\n",
    "        dict = {'City': city,'Lat': lat, 'Lng': lng, 'Max Temp': temp_max, 'Humidity' : humid, 'Cloudiness' : cloud, 'Date':date, \\\n",
    "                'Wind Speed' : wind, 'Country':country}\n",
    "        weather.append(dict)\n",
    "    except KeyError:\n",
    "        print(f\"There was a Key Error\")\n",
    "    x += 1\n",
    "    if x % 60 == 0:\n",
    "        time.sleep(60)\n",
    "        y +=1\n",
    "    "
   ]
  },
  {
   "cell_type": "code",
   "execution_count": 56,
   "metadata": {},
   "outputs": [
    {
     "name": "stdout",
     "output_type": "stream",
     "text": [
      "18.7369\n",
      "7.3853\n",
      "6\n",
      "64\n",
      "1.37\n",
      "315.82\n",
      "1620660091\n",
      "NE\n"
     ]
    }
   ],
   "source": [
    "print(lat)\n",
    "print(lng)\n",
    "print(humid)\n",
    "print(cloud)\n",
    "print(wind)\n",
    "print(temp_max)\n",
    "print(date)\n",
    "print(country)\n"
   ]
  },
  {
   "cell_type": "code",
   "execution_count": 57,
   "metadata": {},
   "outputs": [
    {
     "name": "stdout",
     "output_type": "stream",
     "text": [
      "[{'City': 'ushuaia', 'Lat': -54.8, 'Lng': -68.3, 'Max Temp': 282.15, 'Humidity': 57, 'Cloudiness': 20, 'Date': 1620660018, 'Wind Speed': 3.09, 'Country': 'AR'}, {'City': 'bisho', 'Lat': -32.8472, 'Lng': 27.4422, 'Max Temp': 291.15, 'Humidity': 82, 'Cloudiness': 20, 'Date': 1620660090, 'Wind Speed': 5.66, 'Country': 'ZA'}, {'City': 'kavieng', 'Lat': -2.5744, 'Lng': 150.7967, 'Max Temp': 300.19, 'Humidity': 78, 'Cloudiness': 100, 'Date': 1620660090, 'Wind Speed': 3.53, 'Country': 'PG'}, {'City': 'rikitea', 'Lat': -23.1203, 'Lng': -134.9692, 'Max Temp': 298.46, 'Humidity': 76, 'Cloudiness': 88, 'Date': 1620659879, 'Wind Speed': 10.25, 'Country': 'PF'}, {'City': 'ribeira grande', 'Lat': 38.5167, 'Lng': -28.7, 'Max Temp': 291.15, 'Humidity': 72, 'Cloudiness': 75, 'Date': 1620660090, 'Wind Speed': 4.12, 'Country': 'PT'}, {'City': 'los llanos de aridane', 'Lat': 28.6585, 'Lng': -17.9182, 'Max Temp': 296.15, 'Humidity': 68, 'Cloudiness': 75, 'Date': 1620660091, 'Wind Speed': 4.63, 'Country': 'ES'}, {'City': 'bredasdorp', 'Lat': -34.5322, 'Lng': 20.0403, 'Max Temp': 293.15, 'Humidity': 73, 'Cloudiness': 36, 'Date': 1620660091, 'Wind Speed': 4.12, 'Country': 'ZA'}, {'City': 'arlit', 'Lat': 18.7369, 'Lng': 7.3853, 'Max Temp': 315.82, 'Humidity': 6, 'Cloudiness': 64, 'Date': 1620660091, 'Wind Speed': 1.37, 'Country': 'NE'}]\n"
     ]
    }
   ],
   "source": [
    "print(weather)"
   ]
  },
  {
   "cell_type": "code",
   "execution_count": 12,
   "metadata": {},
   "outputs": [
    {
     "name": "stdout",
     "output_type": "stream",
     "text": [
      "(\"{'coord': {'lon': -0.1257, 'lat': 51.5085}, 'weather': [{'id': 500, 'main': \"\n",
      " \"'Rain', 'description': 'light rain', 'icon': '10n'}], 'base': 'stations', \"\n",
      " \"'main': {'temp': 286.15, 'feels_like': 285.65, 'temp_min': 285.37, \"\n",
      " \"'temp_max': 287.15, 'pressure': 996, 'humidity': 82}, 'visibility': 10000, \"\n",
      " \"'wind': {'speed': 3.6, 'deg': 220}, 'rain': {'1h': 1}, 'clouds': {'all': \"\n",
      " \"90}, 'dt': 1620606757, 'sys': {'type': 1, 'id': 1414, 'country': 'GB', \"\n",
      " \"'sunrise': 1620620177, 'sunset': 1620675455}, 'timezone': 3600, 'id': \"\n",
      " \"2643743, 'name': 'London', 'cod': 200}\")\n",
      "the lat is 51.5085, long is -0.1257, max temp is 287.15, humidity is 82, cloudiness is 90, date is 1620608055, wind is 3.6, country is GB.\n"
     ]
    }
   ],
   "source": [
    "#Save config information\n",
    "url = \"http://api.openweathermap.org/data/2.5/weather?\"\n",
    "city = \"London\"\n",
    "\n",
    "# Build query URL\n",
    "query_url = url + \"appid=\" + weather_api_key + \"&q=\" + city\n",
    "\n",
    "# Get weather data\n",
    "response = requests.get(query_url).json()\n",
    "lat = response['coord']['lat']\n",
    "lng = response['coord']['lon']\n",
    "temp_max = response['main']['temp_max']\n",
    "humid = response['main']['humidity']\n",
    "cloud = response ['clouds']['all']\n",
    "date = response['dt']\n",
    "wind = response['wind']['speed']\n",
    "country = response['sys']['country']\n",
    "\n",
    "# Get the temperature from the response\n",
    "pprint(f\"{weather_json}\")\n",
    "\n",
    "print(f\"the lat is {lat}, long is {lng}, max temp is {temp_max}, humidity is {humid}, cloudiness is {cloud}, date is {date}, \\\n",
    "wind is {wind}, country is {country}.\")\n"
   ]
  },
  {
   "cell_type": "markdown",
   "metadata": {},
   "source": [
    "### Convert Raw Data to DataFrame\n",
    "* Export the city data into a .csv.\n",
    "* Display the DataFrame"
   ]
  },
  {
   "cell_type": "code",
   "execution_count": 58,
   "metadata": {},
   "outputs": [
    {
     "data": {
      "text/html": [
       "<div>\n",
       "<style scoped>\n",
       "    .dataframe tbody tr th:only-of-type {\n",
       "        vertical-align: middle;\n",
       "    }\n",
       "\n",
       "    .dataframe tbody tr th {\n",
       "        vertical-align: top;\n",
       "    }\n",
       "\n",
       "    .dataframe thead th {\n",
       "        text-align: right;\n",
       "    }\n",
       "</style>\n",
       "<table border=\"1\" class=\"dataframe\">\n",
       "  <thead>\n",
       "    <tr style=\"text-align: right;\">\n",
       "      <th></th>\n",
       "      <th>City</th>\n",
       "      <th>Lat</th>\n",
       "      <th>Lng</th>\n",
       "      <th>Max Temp</th>\n",
       "      <th>Humidity</th>\n",
       "      <th>Cloudiness</th>\n",
       "      <th>Date</th>\n",
       "      <th>Wind Speed</th>\n",
       "      <th>Country</th>\n",
       "    </tr>\n",
       "  </thead>\n",
       "  <tbody>\n",
       "    <tr>\n",
       "      <th>0</th>\n",
       "      <td>ushuaia</td>\n",
       "      <td>-54.8000</td>\n",
       "      <td>-68.3000</td>\n",
       "      <td>282.15</td>\n",
       "      <td>57</td>\n",
       "      <td>20</td>\n",
       "      <td>1620660018</td>\n",
       "      <td>3.09</td>\n",
       "      <td>AR</td>\n",
       "    </tr>\n",
       "    <tr>\n",
       "      <th>1</th>\n",
       "      <td>bisho</td>\n",
       "      <td>-32.8472</td>\n",
       "      <td>27.4422</td>\n",
       "      <td>291.15</td>\n",
       "      <td>82</td>\n",
       "      <td>20</td>\n",
       "      <td>1620660090</td>\n",
       "      <td>5.66</td>\n",
       "      <td>ZA</td>\n",
       "    </tr>\n",
       "    <tr>\n",
       "      <th>2</th>\n",
       "      <td>kavieng</td>\n",
       "      <td>-2.5744</td>\n",
       "      <td>150.7967</td>\n",
       "      <td>300.19</td>\n",
       "      <td>78</td>\n",
       "      <td>100</td>\n",
       "      <td>1620660090</td>\n",
       "      <td>3.53</td>\n",
       "      <td>PG</td>\n",
       "    </tr>\n",
       "    <tr>\n",
       "      <th>3</th>\n",
       "      <td>rikitea</td>\n",
       "      <td>-23.1203</td>\n",
       "      <td>-134.9692</td>\n",
       "      <td>298.46</td>\n",
       "      <td>76</td>\n",
       "      <td>88</td>\n",
       "      <td>1620659879</td>\n",
       "      <td>10.25</td>\n",
       "      <td>PF</td>\n",
       "    </tr>\n",
       "    <tr>\n",
       "      <th>4</th>\n",
       "      <td>ribeira grande</td>\n",
       "      <td>38.5167</td>\n",
       "      <td>-28.7000</td>\n",
       "      <td>291.15</td>\n",
       "      <td>72</td>\n",
       "      <td>75</td>\n",
       "      <td>1620660090</td>\n",
       "      <td>4.12</td>\n",
       "      <td>PT</td>\n",
       "    </tr>\n",
       "    <tr>\n",
       "      <th>5</th>\n",
       "      <td>los llanos de aridane</td>\n",
       "      <td>28.6585</td>\n",
       "      <td>-17.9182</td>\n",
       "      <td>296.15</td>\n",
       "      <td>68</td>\n",
       "      <td>75</td>\n",
       "      <td>1620660091</td>\n",
       "      <td>4.63</td>\n",
       "      <td>ES</td>\n",
       "    </tr>\n",
       "    <tr>\n",
       "      <th>6</th>\n",
       "      <td>bredasdorp</td>\n",
       "      <td>-34.5322</td>\n",
       "      <td>20.0403</td>\n",
       "      <td>293.15</td>\n",
       "      <td>73</td>\n",
       "      <td>36</td>\n",
       "      <td>1620660091</td>\n",
       "      <td>4.12</td>\n",
       "      <td>ZA</td>\n",
       "    </tr>\n",
       "    <tr>\n",
       "      <th>7</th>\n",
       "      <td>arlit</td>\n",
       "      <td>18.7369</td>\n",
       "      <td>7.3853</td>\n",
       "      <td>315.82</td>\n",
       "      <td>6</td>\n",
       "      <td>64</td>\n",
       "      <td>1620660091</td>\n",
       "      <td>1.37</td>\n",
       "      <td>NE</td>\n",
       "    </tr>\n",
       "  </tbody>\n",
       "</table>\n",
       "</div>"
      ],
      "text/plain": [
       "                    City      Lat       Lng  Max Temp  Humidity  Cloudiness  \\\n",
       "0                ushuaia -54.8000  -68.3000    282.15        57          20   \n",
       "1                  bisho -32.8472   27.4422    291.15        82          20   \n",
       "2                kavieng  -2.5744  150.7967    300.19        78         100   \n",
       "3                rikitea -23.1203 -134.9692    298.46        76          88   \n",
       "4         ribeira grande  38.5167  -28.7000    291.15        72          75   \n",
       "5  los llanos de aridane  28.6585  -17.9182    296.15        68          75   \n",
       "6             bredasdorp -34.5322   20.0403    293.15        73          36   \n",
       "7                  arlit  18.7369    7.3853    315.82         6          64   \n",
       "\n",
       "         Date  Wind Speed Country  \n",
       "0  1620660018        3.09      AR  \n",
       "1  1620660090        5.66      ZA  \n",
       "2  1620660090        3.53      PG  \n",
       "3  1620659879       10.25      PF  \n",
       "4  1620660090        4.12      PT  \n",
       "5  1620660091        4.63      ES  \n",
       "6  1620660091        4.12      ZA  \n",
       "7  1620660091        1.37      NE  "
      ]
     },
     "execution_count": 58,
     "metadata": {},
     "output_type": "execute_result"
    }
   ],
   "source": [
    "weather_df = pd.DataFrame(weather)\n",
    "weather_df.to_csv('weather_test_output', index = False)\n",
    "weather_df"
   ]
  },
  {
   "cell_type": "markdown",
   "metadata": {},
   "source": [
    "## Inspect the data and remove the cities where the humidity > 100%.\n",
    "----\n",
    "Skip this step if there are no cities that have humidity > 100%. "
   ]
  },
  {
   "cell_type": "code",
   "execution_count": 35,
   "metadata": {},
   "outputs": [],
   "source": [
    "# weather_columns = weather_df.columns\n",
    "# weather_stat = []\n",
    "# for columns in weather_columns:\n",
    "#     stat = weather_df.agg({columns: [\"mean\", \"median\", \"sem\", \"var\", \"std\"]})\n",
    "#     weather_stat.append(stat)\n",
    "\n",
    "# weather_stat\n",
    "# aggr = clean_df.groupby(\"Drug Regimen\").agg({\"Tumor Volume (mm3)\":[\"mean\", \"median\", \"sem\", \"var\", \"std\"]})\n",
    "\n",
    "# aggr.columns = [\"Tumor Vol Mean\", \"Tumor Vol Median\", \"Tumor Vol SEM\", \"Tumor Vol Variance\", \"Tumor Vol Standard Deviation\"]\n"
   ]
  },
  {
   "cell_type": "code",
   "execution_count": 59,
   "metadata": {},
   "outputs": [
    {
     "data": {
      "text/html": [
       "<div>\n",
       "<style scoped>\n",
       "    .dataframe tbody tr th:only-of-type {\n",
       "        vertical-align: middle;\n",
       "    }\n",
       "\n",
       "    .dataframe tbody tr th {\n",
       "        vertical-align: top;\n",
       "    }\n",
       "\n",
       "    .dataframe thead th {\n",
       "        text-align: right;\n",
       "    }\n",
       "</style>\n",
       "<table border=\"1\" class=\"dataframe\">\n",
       "  <thead>\n",
       "    <tr style=\"text-align: right;\">\n",
       "      <th></th>\n",
       "      <th>Lat</th>\n",
       "    </tr>\n",
       "  </thead>\n",
       "  <tbody>\n",
       "    <tr>\n",
       "      <th>count</th>\n",
       "      <td>8.000000</td>\n",
       "    </tr>\n",
       "    <tr>\n",
       "      <th>mean</th>\n",
       "      <td>-7.745250</td>\n",
       "    </tr>\n",
       "    <tr>\n",
       "      <th>median</th>\n",
       "      <td>-12.847350</td>\n",
       "    </tr>\n",
       "    <tr>\n",
       "      <th>sem</th>\n",
       "      <td>11.946034</td>\n",
       "    </tr>\n",
       "    <tr>\n",
       "      <th>var</th>\n",
       "      <td>1141.661891</td>\n",
       "    </tr>\n",
       "    <tr>\n",
       "      <th>std</th>\n",
       "      <td>33.788488</td>\n",
       "    </tr>\n",
       "    <tr>\n",
       "      <th>max</th>\n",
       "      <td>38.516700</td>\n",
       "    </tr>\n",
       "    <tr>\n",
       "      <th>quantile</th>\n",
       "      <td>-12.847350</td>\n",
       "    </tr>\n",
       "  </tbody>\n",
       "</table>\n",
       "</div>"
      ],
      "text/plain": [
       "                  Lat\n",
       "count        8.000000\n",
       "mean        -7.745250\n",
       "median     -12.847350\n",
       "sem         11.946034\n",
       "var       1141.661891\n",
       "std         33.788488\n",
       "max         38.516700\n",
       "quantile   -12.847350"
      ]
     },
     "execution_count": 59,
     "metadata": {},
     "output_type": "execute_result"
    }
   ],
   "source": [
    "stat = weather_df.agg({\"Lat\": [\"count\",\"mean\", \"median\", \"sem\", \"var\", \"std\", \"max\", \"quantile\"]})\n",
    "stat\n",
    "# weather_df['Lat']"
   ]
  },
  {
   "cell_type": "code",
   "execution_count": 31,
   "metadata": {},
   "outputs": [
    {
     "data": {
      "text/html": [
       "<div>\n",
       "<style scoped>\n",
       "    .dataframe tbody tr th:only-of-type {\n",
       "        vertical-align: middle;\n",
       "    }\n",
       "\n",
       "    .dataframe tbody tr th {\n",
       "        vertical-align: top;\n",
       "    }\n",
       "\n",
       "    .dataframe thead th {\n",
       "        text-align: right;\n",
       "    }\n",
       "</style>\n",
       "<table border=\"1\" class=\"dataframe\">\n",
       "  <thead>\n",
       "    <tr style=\"text-align: right;\">\n",
       "      <th></th>\n",
       "      <th>Lat</th>\n",
       "      <th>Lng</th>\n",
       "      <th>Max Temp</th>\n",
       "      <th>Humidity</th>\n",
       "      <th>Cloudiness</th>\n",
       "      <th>Date</th>\n",
       "      <th>Wind Speed</th>\n",
       "      <th>Country</th>\n",
       "    </tr>\n",
       "  </thead>\n",
       "  <tbody>\n",
       "  </tbody>\n",
       "</table>\n",
       "</div>"
      ],
      "text/plain": [
       "Empty DataFrame\n",
       "Columns: [Lat, Lng, Max Temp, Humidity, Cloudiness, Date, Wind Speed, Country]\n",
       "Index: []"
      ]
     },
     "execution_count": 31,
     "metadata": {},
     "output_type": "execute_result"
    }
   ],
   "source": [
    "#  Get the indices of cities that have humidity over 100%.\n",
    "humid_over100 = weather_df.loc[weather_df[\"Humidity\"]>100]\n",
    "humid_over100"
   ]
  },
  {
   "cell_type": "code",
   "execution_count": null,
   "metadata": {},
   "outputs": [],
   "source": [
    "# Make a new DataFrame equal to the city data to drop all humidity outliers by index.\n",
    "# Passing \"inplace=False\" will make a copy of the city_data DataFrame, which we call \"clean_city_data\".\n"
   ]
  },
  {
   "cell_type": "code",
   "execution_count": null,
   "metadata": {},
   "outputs": [],
   "source": [
    "\n"
   ]
  },
  {
   "cell_type": "markdown",
   "metadata": {},
   "source": [
    "## Plotting the Data\n",
    "* Use proper labeling of the plots using plot titles (including date of analysis) and axes labels.\n",
    "* Save the plotted figures as .pngs."
   ]
  },
  {
   "cell_type": "markdown",
   "metadata": {},
   "source": [
    "## Latitude vs. Temperature Plot"
   ]
  },
  {
   "cell_type": "code",
   "execution_count": 67,
   "metadata": {
    "scrolled": true
   },
   "outputs": [
    {
     "data": {
      "image/png": "[encoded data removed]",
      "text/plain": [
       "<Figure size 432x288 with 1 Axes>"
      ]
     },
     "metadata": {
      "needs_background": "light"
     },
     "output_type": "display_data"
    }
   ],
   "source": [
    "weather_df.plot(x ='Lat', y='Max Temp', kind = 'scatter', grid = True, alpha = .8)\n",
    "plt.title(\"Latitude vs. Temperature\")\n",
    "plt.xlabel(\"Latitude\")\n",
    "plt.ylabel(\"Max Temperature (F)\")\n",
    "plt.show()"
   ]
  },
  {
   "cell_type": "code",
   "execution_count": 52,
   "metadata": {},
   "outputs": [
    {
     "data": {
      "text/html": [
       "<div>\n",
       "<style scoped>\n",
       "    .dataframe tbody tr th:only-of-type {\n",
       "        vertical-align: middle;\n",
       "    }\n",
       "\n",
       "    .dataframe tbody tr th {\n",
       "        vertical-align: top;\n",
       "    }\n",
       "\n",
       "    .dataframe thead th {\n",
       "        text-align: right;\n",
       "    }\n",
       "</style>\n",
       "<table border=\"1\" class=\"dataframe\">\n",
       "  <thead>\n",
       "    <tr style=\"text-align: right;\">\n",
       "      <th></th>\n",
       "      <th>Lat</th>\n",
       "      <th>Lng</th>\n",
       "      <th>Max Temp</th>\n",
       "      <th>Humidity</th>\n",
       "      <th>Cloudiness</th>\n",
       "      <th>Date</th>\n",
       "      <th>Wind Speed</th>\n",
       "      <th>Country</th>\n",
       "    </tr>\n",
       "  </thead>\n",
       "  <tbody>\n",
       "    <tr>\n",
       "      <th>0</th>\n",
       "      <td>-54.8000</td>\n",
       "      <td>-68.3000</td>\n",
       "      <td>278.15</td>\n",
       "      <td>81</td>\n",
       "      <td>40</td>\n",
       "      <td>1620611486</td>\n",
       "      <td>14.40</td>\n",
       "      <td>AR</td>\n",
       "    </tr>\n",
       "    <tr>\n",
       "      <th>1</th>\n",
       "      <td>-32.8472</td>\n",
       "      <td>27.4422</td>\n",
       "      <td>285.50</td>\n",
       "      <td>69</td>\n",
       "      <td>6</td>\n",
       "      <td>1620611533</td>\n",
       "      <td>2.61</td>\n",
       "      <td>ZA</td>\n",
       "    </tr>\n",
       "    <tr>\n",
       "      <th>2</th>\n",
       "      <td>-2.5744</td>\n",
       "      <td>150.7967</td>\n",
       "      <td>300.61</td>\n",
       "      <td>73</td>\n",
       "      <td>100</td>\n",
       "      <td>1620611623</td>\n",
       "      <td>0.97</td>\n",
       "      <td>PG</td>\n",
       "    </tr>\n",
       "    <tr>\n",
       "      <th>3</th>\n",
       "      <td>-23.1203</td>\n",
       "      <td>-134.9692</td>\n",
       "      <td>299.08</td>\n",
       "      <td>67</td>\n",
       "      <td>1</td>\n",
       "      <td>1620611624</td>\n",
       "      <td>6.37</td>\n",
       "      <td>PF</td>\n",
       "    </tr>\n",
       "    <tr>\n",
       "      <th>4</th>\n",
       "      <td>38.5167</td>\n",
       "      <td>-28.7000</td>\n",
       "      <td>288.90</td>\n",
       "      <td>73</td>\n",
       "      <td>53</td>\n",
       "      <td>1620611624</td>\n",
       "      <td>3.92</td>\n",
       "      <td>PT</td>\n",
       "    </tr>\n",
       "    <tr>\n",
       "      <th>5</th>\n",
       "      <td>28.6585</td>\n",
       "      <td>-17.9182</td>\n",
       "      <td>294.15</td>\n",
       "      <td>83</td>\n",
       "      <td>75</td>\n",
       "      <td>1620611624</td>\n",
       "      <td>2.57</td>\n",
       "      <td>ES</td>\n",
       "    </tr>\n",
       "    <tr>\n",
       "      <th>6</th>\n",
       "      <td>-34.5322</td>\n",
       "      <td>20.0403</td>\n",
       "      <td>287.15</td>\n",
       "      <td>88</td>\n",
       "      <td>19</td>\n",
       "      <td>1620611624</td>\n",
       "      <td>2.06</td>\n",
       "      <td>ZA</td>\n",
       "    </tr>\n",
       "    <tr>\n",
       "      <th>7</th>\n",
       "      <td>18.7369</td>\n",
       "      <td>7.3853</td>\n",
       "      <td>304.19</td>\n",
       "      <td>17</td>\n",
       "      <td>100</td>\n",
       "      <td>1620611625</td>\n",
       "      <td>2.19</td>\n",
       "      <td>NE</td>\n",
       "    </tr>\n",
       "  </tbody>\n",
       "</table>\n",
       "</div>"
      ],
      "text/plain": [
       "       Lat       Lng  Max Temp  Humidity  Cloudiness        Date  Wind Speed  \\\n",
       "0 -54.8000  -68.3000    278.15        81          40  1620611486       14.40   \n",
       "1 -32.8472   27.4422    285.50        69           6  1620611533        2.61   \n",
       "2  -2.5744  150.7967    300.61        73         100  1620611623        0.97   \n",
       "3 -23.1203 -134.9692    299.08        67           1  1620611624        6.37   \n",
       "4  38.5167  -28.7000    288.90        73          53  1620611624        3.92   \n",
       "5  28.6585  -17.9182    294.15        83          75  1620611624        2.57   \n",
       "6 -34.5322   20.0403    287.15        88          19  1620611624        2.06   \n",
       "7  18.7369    7.3853    304.19        17         100  1620611625        2.19   \n",
       "\n",
       "  Country  \n",
       "0      AR  \n",
       "1      ZA  \n",
       "2      PG  \n",
       "3      PF  \n",
       "4      PT  \n",
       "5      ES  \n",
       "6      ZA  \n",
       "7      NE  "
      ]
     },
     "execution_count": 52,
     "metadata": {},
     "output_type": "execute_result"
    }
   ],
   "source": [
    "weather_df\n",
    "\n"
   ]
  },
  {
   "cell_type": "markdown",
   "metadata": {},
   "source": [
    "## Latitude vs. Humidity Plot"
   ]
  },
  {
   "cell_type": "code",
   "execution_count": 68,
   "metadata": {},
   "outputs": [
    {
     "data": {
      "image/png": "[encoded data removed]",
      "text/plain": [
       "<Figure size 432x288 with 1 Axes>"
      ]
     },
     "metadata": {
      "needs_background": "light"
     },
     "output_type": "display_data"
    }
   ],
   "source": [
    "weather_df.plot(x ='Lat', y='Humidity', kind = 'scatter', grid = True, alpha = .8)\n",
    "plt.title(\"Latitude vs. Humidity Plot\")\n",
    "plt.xlabel(\"Latitude\")\n",
    "plt.ylabel(\"Humidity (%)\")\n",
    "plt.show()"
   ]
  },
  {
   "cell_type": "markdown",
   "metadata": {},
   "source": [
    "## Latitude vs. Cloudiness Plot"
   ]
  },
  {
   "cell_type": "code",
   "execution_count": 69,
   "metadata": {},
   "outputs": [
    {
     "data": {
      "image/png": "[encoded data removed]",
      "text/plain": [
       "<Figure size 432x288 with 1 Axes>"
      ]
     },
     "metadata": {
      "needs_background": "light"
     },
     "output_type": "display_data"
    }
   ],
   "source": [
    "weather_df.plot(x ='Lat', y='Cloudiness', kind = 'scatter', grid = True, alpha = .8)\n",
    "plt.title(\"Latitude vs. Cloudiness Plot\")\n",
    "plt.xlabel(\"Latitude\")\n",
    "plt.ylabel(\"Cloudiness (%)\")\n",
    "plt.show()"
   ]
  },
  {
   "cell_type": "markdown",
   "metadata": {},
   "source": [
    "## Latitude vs. Wind Speed Plot"
   ]
  },
  {
   "cell_type": "code",
   "execution_count": 72,
   "metadata": {},
   "outputs": [
    {
     "data": {
      "image/png": "[encoded data removed]",
      "text/plain": [
       "<Figure size 432x288 with 1 Axes>"
      ]
     },
     "metadata": {
      "needs_background": "light"
     },
     "output_type": "display_data"
    }
   ],
   "source": [
    "weather_df.plot(x ='Lat', y='Wind Speed', kind = 'scatter', grid = True, alpha = .8)\n",
    "plt.title(\"Latitude vs. Wind Speed Plot\")\n",
    "plt.xlabel(\"Latitude\")\n",
    "plt.ylabel(\"Wind Speed (mph)\")\n",
    "plt.show()"
   ]
  },
  {
   "cell_type": "markdown",
   "metadata": {},
   "source": [
    "## Linear Regression"
   ]
  },
  {
   "cell_type": "code",
   "execution_count": null,
   "metadata": {},
   "outputs": [],
   "source": []
  },
  {
   "cell_type": "markdown",
   "metadata": {},
   "source": [
    "####  Northern Hemisphere - Max Temp vs. Latitude Linear Regression"
   ]
  },
  {
   "cell_type": "code",
   "execution_count": null,
   "metadata": {},
   "outputs": [],
   "source": []
  },
  {
   "cell_type": "markdown",
   "metadata": {},
   "source": [
    "####  Southern Hemisphere - Max Temp vs. Latitude Linear Regression"
   ]
  },
  {
   "cell_type": "code",
   "execution_count": null,
   "metadata": {},
   "outputs": [],
   "source": []
  },
  {
   "cell_type": "markdown",
   "metadata": {},
   "source": [
    "####  Northern Hemisphere - Humidity (%) vs. Latitude Linear Regression"
   ]
  },
  {
   "cell_type": "code",
   "execution_count": null,
   "metadata": {},
   "outputs": [],
   "source": []
  },
  {
   "cell_type": "markdown",
   "metadata": {},
   "source": [
    "####  Southern Hemisphere - Humidity (%) vs. Latitude Linear Regression"
   ]
  },
  {
   "cell_type": "code",
   "execution_count": null,
   "metadata": {},
   "outputs": [],
   "source": []
  },
  {
   "cell_type": "markdown",
   "metadata": {},
   "source": [
    "####  Northern Hemisphere - Cloudiness (%) vs. Latitude Linear Regression"
   ]
  },
  {
   "cell_type": "code",
   "execution_count": null,
   "metadata": {},
   "outputs": [],
   "source": []
  },
  {
   "cell_type": "markdown",
   "metadata": {},
   "source": [
    "####  Southern Hemisphere - Cloudiness (%) vs. Latitude Linear Regression"
   ]
  },
  {
   "cell_type": "code",
   "execution_count": null,
   "metadata": {},
   "outputs": [],
   "source": []
  },
  {
   "cell_type": "markdown",
   "metadata": {},
   "source": [
    "####  Northern Hemisphere - Wind Speed (mph) vs. Latitude Linear Regression"
   ]
  },
  {
   "cell_type": "code",
   "execution_count": null,
   "metadata": {},
   "outputs": [],
   "source": []
  },
  {
   "cell_type": "markdown",
   "metadata": {},
   "source": [
    "####  Southern Hemisphere - Wind Speed (mph) vs. Latitude Linear Regression"
   ]
  },
  {
   "cell_type": "code",
   "execution_count": null,
   "metadata": {},
   "outputs": [],
   "source": []
  },
  {
   "cell_type": "code",
   "execution_count": null,
   "metadata": {},
   "outputs": [],
   "source": []
  },
  {
   "cell_type": "code",
   "execution_count": null,
   "metadata": {},
   "outputs": [],
   "source": []
  }
 ],
 "metadata": {
  "anaconda-cloud": {},
  "kernel_info": {
   "name": "python3"
  },
  "kernelspec": {
   "display_name": "Python 3",
   "language": "python",
   "name": "python3"
  },
  "language_info": {
   "codemirror_mode": {
    "name": "ipython",
    "version": 3
   },
   "file_extension": ".py",
   "mimetype": "text/x-python",
   "name": "python",
   "nbconvert_exporter": "python",
   "pygments_lexer": "ipython3",
   "version": "3.6.10"
  },
  "latex_envs": {
   "LaTeX_envs_menu_present": true,
   "autoclose": false,
   "autocomplete": true,
   "bibliofile": "biblio.bib",
   "cite_by": "apalike",
   "current_citInitial": 1,
   "eqLabelWithNumbers": true,
   "eqNumInitial": 1,
   "hotkeys": {
    "equation": "Ctrl-E",
    "itemize": "Ctrl-I"
   },
   "labels_anchors": false,
   "latex_user_defs": false,
   "report_style_numbering": false,
   "user_envs_cfg": false
  },
  "nteract": {
   "version": "0.12.3"
  }
 },
 "nbformat": 4,
 "nbformat_minor": 2
}
